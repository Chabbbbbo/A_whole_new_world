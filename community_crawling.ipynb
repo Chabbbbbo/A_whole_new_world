{
 "cells": [
  {
   "cell_type": "code",
   "execution_count": 415,
   "metadata": {},
   "outputs": [],
   "source": [
    "# webdriver-manager 설치 \n",
    "# ! pip install webdriver-manager\n",
    "# Webdriver import\n",
    "from selenium import webdriver\n",
    "from selenium.webdriver.chrome.service import Service\n",
    "from webdriver_manager.chrome import ChromeDriverManager\n",
    "from selenium.webdriver.common.by import By \n",
    "from selenium.webdriver.common.keys import Keys\n",
    "from selenium.webdriver.chrome.options import Options\n",
    "\n",
    "# Crawling import\n",
    "import requests\n",
    "from bs4 import BeautifulSoup\n",
    "import time\n",
    "import re\n",
    "from datetime import datetime\n",
    "\n",
    "### DB connect import\n",
    "import pymysql\n",
    "import pandas as pd\n",
    "from tqdm import tqdm\n"
   ]
  },
  {
   "attachments": {},
   "cell_type": "markdown",
   "metadata": {},
   "source": [
    "### 웹드라이버 로드"
   ]
  },
  {
   "cell_type": "code",
   "execution_count": 268,
   "metadata": {},
   "outputs": [],
   "source": [
    "def setup_chrome_driver():\n",
    "    chrome_options = Options()\n",
    "    chrome_options.add_argument(\"--headless\")  # Run Chrome in headless mode (without GUI)\n",
    "    chrome_options.add_argument('--blink-settings=imagesEnabled=false') # Not load image\n",
    "\n",
    "    # install Chrome webdriver\n",
    "    driver = webdriver.Chrome(service=Service(ChromeDriverManager().install()), options=chrome_options)\n",
    "    return driver\n",
    "\n",
    "driver = setup_chrome_driver()"
   ]
  },
  {
   "attachments": {},
   "cell_type": "markdown",
   "metadata": {},
   "source": [
    "### 에펨\n"
   ]
  },
  {
   "cell_type": "code",
   "execution_count": 175,
   "metadata": {},
   "outputs": [
    {
     "name": "stdout",
     "output_type": "stream",
     "text": [
      " 라이엇 핼퍼관련해서 제일 웃음벨은 그거 아닌가 https://www.fmkorea.com/5540346457 0 2023-03-01\n",
      " 당신은 3.1절 경인대첩을 기억하십니까?? https://www.fmkorea.com/5540243150 2 2023-03-01\n",
      " 아출드 mc 힘의길이 받아서 하면 안될라나 https://www.fmkorea.com/5540272544 11 2023-03-01\n",
      " 롤계의 광우병 선동  캬하하 헬퍼사건 https://www.fmkorea.com/5540236885 83 2023-03-01\n",
      " 최근에 GTX1080TI->RTX3070로 하고나서 신세계네요 https://www.fmkorea.com/5540220393 12 2023-03-01\n",
      " 스압?, 정치인 사진 주의) 불타는 트롯맨의 서혜진 PD에 대하여 알아보자.txt https://www.fmkorea.com/5540092024 0 2023-03-01\n",
      " 가성비 게이밍 노트북 추천 좀 해주세요 https://www.fmkorea.com/5540177326 0 2023-03-01\n",
      " 미국에서 화제인 리얼리티 쇼 - MILF MANOR https://www.fmkorea.com/5540052149 5 2023-03-01\n",
      " [쿠팡] 레노버 YOGA 6 13ALC R5 Epic Edition (649,000원) (로켓와우무료) https://www.fmkorea.com/5540080517 98 2023-03-01\n",
      " PC  본체 견적 문의 겸  부품 추천 문의 https://www.fmkorea.com/5540104314 0 2023-03-01\n",
      "소요시간 ==>>> 2.9249470233917236\n"
     ]
    }
   ],
   "source": [
    "# Set up Chrome options\n",
    "chrome_options = Options()\n",
    "chrome_options.add_argument(\"--headless\")  # Run Chrome in headless mode (without GUI)\n",
    "chrome_options.add_argument('--blink-settings=imagesEnabled=false') # Not load image\n",
    "\n",
    "# Set up Chrome webdriver\n",
    "driver = webdriver.Chrome(options=chrome_options)\n",
    "\n",
    "start = time.time()\n",
    "word = '그램'\n",
    "#Selenium_driver로 url 접속\n",
    "url = f'https://www.fmkorea.com/search.php?act=IS&is_keyword={word}'\n",
    "driver.get(url)\n",
    "#Selenium_접속하는 데 시간이 걸릴 수 있으므로 1초 기다림\n",
    "time.sleep(1)\n",
    "\n",
    "#BeautifulSoup_html을 Parsing 함\n",
    "soup = BeautifulSoup(driver.page_source, 'html.parser')\n",
    "search_in_commu = soup.find('ul', class_=\"searchResult\")\n",
    "search_results = search_in_commu.findAll(\"li\")\n",
    "for search in search_in_commu: \n",
    "    if search == ' ':\n",
    "        pass\n",
    "    else:\n",
    "        title = search.find('a').get_text().split(']')\n",
    "        title = ' '.join(']'.join(title[1:]).split(' '))\n",
    "        url = f\"https://www.fmkorea.com{search.find('a')['href']}\"\n",
    "        date = search.find('span', class_ = 'time').get_text().split(' ')[0] # 형식 yyyy-mm-dd\n",
    "        try:\n",
    "            comment_cnt = int(search.find('em').get_text())\n",
    "        except AttributeError:   # em 이 아닌 span에 담겼을 때,\n",
    "            comment_cnt = 0\n",
    "        print(title, url, comment_cnt, date)\n",
    "print(f\"소요시간 ==>>> {time.time() - start}\")"
   ]
  },
  {
   "cell_type": "code",
   "execution_count": 165,
   "metadata": {},
   "outputs": [
    {
     "name": "stdout",
     "output_type": "stream",
     "text": [
      "<ul class=\"searchResult\" id=\"board_search_list\">\n",
      "</ul>\n",
      "None\n"
     ]
    }
   ],
   "source": [
    "print(search_in_commu)\n",
    "print(search_in_commu.find('a'))"
   ]
  },
  {
   "cell_type": "code",
   "execution_count": 169,
   "metadata": {},
   "outputs": [
    {
     "name": "stdout",
     "output_type": "stream",
     "text": [
      "없음\n"
     ]
    }
   ],
   "source": [
    "for search in search_in_commu: \n",
    "    if search == ' ':\n",
    "        pass\n",
    "    else:\n",
    "        a_tag = search_in_commu.find('a')\n",
    "        if a_tag == None:\n",
    "            print('없음')\n",
    "            break\n",
    "        print('====',search,'=====')\n",
    "        print(search)"
   ]
  },
  {
   "cell_type": "code",
   "execution_count": 179,
   "metadata": {},
   "outputs": [],
   "source": [
    "def fm_crawling(word_list : list):\n",
    "    '''\n",
    "    에펨코리아 사이트에서 크롤링하는 함수. \n",
    "    검색어 단어들이 리스트로 들어오면 for문으로 각 단어 결과를 파싱한 후 title, url, date, comment_cnt를 반환\n",
    "    \n",
    "    - input \n",
    "        word_list(list) : 연관어 리스트\n",
    "        driver(webdriver) : selenium.webdriver.chrome.webdriver\n",
    "    - output  \n",
    "        title(str) : 제목\n",
    "        url(str) : 해당 url\n",
    "        date(str) : 작성일(yyyy-mm-dd 형식)\n",
    "        comment_cnt(int) : 댓글수\n",
    "    '''\n",
    "\n",
    "    start = time.time()\n",
    "    for word in word_list:\n",
    "        url = f'https://www.fmkorea.com/search.php?act=IS&is_keyword={word}'\n",
    "        driver.get(url)\n",
    "        #Selenium_접속하는 데 시간이 걸릴 수 있으므로 1초 기다림\n",
    "        time.sleep(1)\n",
    "\n",
    "        #BeautifulSoup_html을 Parsing 함\n",
    "        soup = BeautifulSoup(driver.page_source, 'html.parser')\n",
    "        search_in_commu = soup.find('ul', class_=\"searchResult\")\n",
    "        search_results = search_in_commu.findAll(\"li\")\n",
    "        for search in search_in_commu: \n",
    "            if search != ' ':\n",
    "                if search_in_commu.find('a') is not None:\n",
    "                    title = search.find('a').get_text().split(']')\n",
    "                    title = ' '.join(']'.join(title[1:]).split(' '))\n",
    "                    url = f\"https://www.fmkorea.com{search.find('a')['href']}\"\n",
    "                    date = search.find('span', class_ = 'time').get_text().split(' ')[0] # 형식 yyyy-mm-dd\n",
    "                    try:\n",
    "                        comment_cnt = int(search.find('em').get_text())\n",
    "                    except AttributeError:   # 댓글 없는 경우\n",
    "                        comment_cnt = 0\n",
    "                    print(title, url, comment_cnt, date)\n",
    "    end = time.time() - start\n",
    "    return end"
   ]
  },
  {
   "cell_type": "code",
   "execution_count": 180,
   "metadata": {},
   "outputs": [
    {
     "name": "stdout",
     "output_type": "stream",
     "text": [
      " 맥북 m1 당근 깡통 https://www.fmkorea.com/5540161651 1 2023-03-01\n",
      " 메이플 갑자기 개땡기는데 맥북이라 못하는게 억울하다 https://www.fmkorea.com/5540037029 6 2023-03-01\n",
      " 루다가 260만원 주고 맥북샀는데 우정잉이 210만원에 그 맥북 중고 예약 ㅋㅋ https://www.fmkorea.com/5539952928 2 2023-03-01\n",
      " 루다 260만원 맥북 언박싱 시작.jpg https://www.fmkorea.com/5539684098 1 2023-03-01\n",
      " 아이폰 14프로 쓰면서 갤럭시 북샀네 https://www.fmkorea.com/5539668812 3 2023-03-01\n",
      " 루다 \"내 비상금은 내 돈 아니다\" 논란 https://www.fmkorea.com/5539631626 1 2023-03-01\n",
      " M2 맥북프로 거의한달차 후기. https://www.fmkorea.com/5539489728 3 2023-03-01\n",
      " 더블 모니터에서 싱글로 갈려고 합니다. https://www.fmkorea.com/5539380316 4 2023-03-01\n",
      " [해결함]맥북유전데 질문좀 https://www.fmkorea.com/5539305714 0 2023-03-01\n",
      " 맥북 14인치에서 16인치로 넘어가면 돈지랄이겠지 https://www.fmkorea.com/5539189193 1 2023-03-01\n",
      " ai 동영상.링크 https://www.fmkorea.com/5540447452 2 2023-03-01\n",
      " 라이엇 핼퍼관련해서 제일 웃음벨은 그거 아닌가 https://www.fmkorea.com/5540346457 0 2023-03-01\n",
      " 당신은 3.1절 경인대첩을 기억하십니까?? https://www.fmkorea.com/5540243150 2 2023-03-01\n",
      " 아출드 mc 힘의길이 받아서 하면 안될라나 https://www.fmkorea.com/5540272544 11 2023-03-01\n",
      " 롤계의 광우병 선동  캬하하 헬퍼사건 https://www.fmkorea.com/5540236885 84 2023-03-01\n",
      " 최근에 GTX1080TI->RTX3070로 하고나서 신세계네요 https://www.fmkorea.com/5540220393 12 2023-03-01\n",
      " 스압?, 정치인 사진 주의) 불타는 트롯맨의 서혜진 PD에 대하여 알아보자.txt https://www.fmkorea.com/5540092024 0 2023-03-01\n",
      " 가성비 게이밍 노트북 추천 좀 해주세요 https://www.fmkorea.com/5540177326 0 2023-03-01\n",
      " 미국에서 화제인 리얼리티 쇼 - MILF MANOR https://www.fmkorea.com/5540052149 5 2023-03-01\n",
      " [쿠팡] 레노버 YOGA 6 13ALC R5 Epic Edition (649,000원) (로켓와우무료) https://www.fmkorea.com/5540080517 105 2023-03-01\n",
      " 닉네임에 뉴진스 관련인 애들은 대화가 안 통하는 애들이 많네... https://www.fmkorea.com/5540428112 1 2023-03-01\n",
      " 내가 뉴진스 멤버중에 가장 먼저 외웟던 얼굴 https://www.fmkorea.com/5540361901 2 2023-03-01\n",
      " 어째든 https://www.fmkorea.com/5540338193 5 2023-03-01\n",
      " 뉴진스 음원차트 최초 신기록나옴 https://www.fmkorea.com/5540314935 5 2023-03-01\n",
      " 멜론 2월 월간차트 1~3위 뉴진스 https://www.fmkorea.com/5540282889 4 2023-03-01\n",
      " 저사람때문에 출발드림팀 https://www.fmkorea.com/5540263392 0 2023-03-01\n",
      " 아잇쒸 그럼 sm 너네들은 유영진 노래를 뉴진스 주는 상상한거냐 https://www.fmkorea.com/5540247134 7 2023-03-01\n",
      " sm 이건좀 https://www.fmkorea.com/5540234393 6 2023-03-01\n",
      " 모자 쓴 뉴진스 해린 https://www.fmkorea.com/5540227571 2 2023-03-01\n",
      " 요즘 뉴진스에 빠져서 여길 잘 안왔는데 https://www.fmkorea.com/5540220938 11 2023-03-01\n"
     ]
    },
    {
     "data": {
      "text/plain": [
       "8.234305143356323"
      ]
     },
     "execution_count": 180,
     "metadata": {},
     "output_type": "execute_result"
    }
   ],
   "source": [
    "word_list = ['맥북', '그램', '뉴진스', '미ㅏㅇ러미낭']\n",
    "\n",
    "fm_crawling(word_list)\n"
   ]
  },
  {
   "attachments": {},
   "cell_type": "markdown",
   "metadata": {},
   "source": [
    "### 뽐뿌\n"
   ]
  },
  {
   "cell_type": "code",
   "execution_count": 256,
   "metadata": {},
   "outputs": [
    {
     "name": "stdout",
     "output_type": "stream",
     "text": [
      "소요시간 ==>>> 7.220313549041748\n"
     ]
    }
   ],
   "source": [
    "# Set up Chrome options\n",
    "chrome_options = Options()\n",
    "chrome_options.add_argument(\"--headless\")  # Run Chrome in headless mode (without GUI)\n",
    "chrome_options.add_argument('--blink-settings=imagesEnabled=false') # Not load image\n",
    "\n",
    "# Set up Chrome webdriver\n",
    "driver = webdriver.Chrome(options=chrome_options)\n",
    "\n",
    "start = time.time()\n",
    "word = '니ㅏ펀'\n",
    "#Selenium_driver로 url 접속\n",
    "url = f'https://www.ppomppu.co.kr/search_bbs.php?bbs_cate=2&keyword={word}'\n",
    "driver.get(url)\n",
    "#Selenium_접속하는 데 시간이 걸릴 수 있으므로 1초 기다림\n",
    "time.sleep(1)\n",
    "\n",
    "#BeautifulSoup_html을 Parsing 함\n",
    "soup = BeautifulSoup(driver.page_source, 'html.parser')\n",
    "search_in_commu = soup.find_all('div', class_=\"content\")\n",
    "for search in search_in_commu: \n",
    "    comment_cnt = search.find('font', class_ = 'comment-cnt').get_text()\n",
    "    search.find('a').font.decompose()\n",
    "    # print(search)\n",
    "    title = search.find('a').get_text()\n",
    "    url = f\"https://www.ppomppu.co.kr{search.find('a')['href']}\"\n",
    "    date = search.find('p', class_ = 'desc').select_one('span:nth-child(3)').string.split('.')\n",
    "    date = '-'.join(date) # yyyy-mm-dd 형식 맞춰줌\n",
    "    print(title, url, date, comment_cnt)\n",
    "print(f\"소요시간 ==>>> {time.time() - start}\")"
   ]
  },
  {
   "cell_type": "code",
   "execution_count": 259,
   "metadata": {},
   "outputs": [],
   "source": [
    "def pp_crawling(driver:webdriver, word_list : list):\n",
    "    '''\n",
    "    뽐뿌 사이트에서 크롤링하는 함수. \n",
    "    검색어 단어들이 리스트로 들어오면 for문으로 각 단어 결과를 파싱한 후 title, url, date, comment_cnt를 반환\n",
    "    \n",
    "    - input \n",
    "        word_list(list) : 연관어 리스트\n",
    "        driver(webdriver) : selenium.webdriver.chrome.webdriver\n",
    "    - output  \n",
    "        title(str) : 제목\n",
    "        url(str) : 해당 url\n",
    "        date(str) : 작성일(yyyy-mm-dd 형식)\n",
    "        comment_cnt(int) : 댓글수\n",
    "    '''\n",
    "    start = time.time()\n",
    "    for word in word_list:\n",
    "        url = f'https://www.ppomppu.co.kr/search_bbs.php?bbs_cate=2&keyword={word}'\n",
    "        driver.get(url)\n",
    "        time.sleep(1)\n",
    "\n",
    "        #BeautifulSoup_html을 Parsing 함\n",
    "        soup = BeautifulSoup(driver.page_source, 'html.parser')\n",
    "        search_in_commu = soup.find_all('div', class_=\"content\")\n",
    "        for search in search_in_commu: \n",
    "            comment_cnt = int(search.find('font', class_ = 'comment-cnt').get_text())\n",
    "            search.find('a').font.decompose()\n",
    "            title = search.find('a').get_text()\n",
    "            url = f\"https://www.ppomppu.co.kr{search.find('a')['href']}\"\n",
    "            date = search.find('p', class_ = 'desc').select_one('span:nth-child(3)').string.split('.')\n",
    "            date = '-'.join(date) # yyyy-mm-dd 형식 맞춰줌\n",
    "            print(title, url, date, comment_cnt)\n",
    "    times = time.time() - start\n",
    "    return times"
   ]
  },
  {
   "cell_type": "code",
   "execution_count": 261,
   "metadata": {},
   "outputs": [
    {
     "name": "stdout",
     "output_type": "stream",
     "text": [
      "이젠 아이패드가 싸게 느껴지네요 https://www.ppomppu.co.kr/zboard/view.php?id=tablet&no=147651&keyword=%B8%C6%BA%CF 2023-03-01 0\n",
      "멀티 충전기 (20,500원/무료) https://www.ppomppu.co.kr/zboard/view.php?id=ppomppu8&no=12734&keyword=%B8%C6%BA%CF 2023-03-01 0\n",
      "Tookci-67W GaN USB C 고속 충전기 ($15.86/무료) https://www.ppomppu.co.kr/zboard/view.php?id=ppomppu8&no=12726&keyword=%B8%C6%BA%CF 2023-02-28 6\n",
      "애플, MFI 적용된 USB-C 케이블 폭스콘 양산 시작 https://www.ppomppu.co.kr/zboard/view.php?id=phone&no=3750271&keyword=%B8%C6%BA%CF 2023-02-28 37\n",
      "다이소 맥세이프 호환용 팝핑거 https://www.ppomppu.co.kr/zboard/view.php?id=receive&no=65037&keyword=%B8%C6%BA%CF 2023-02-28 0\n",
      "쿠팡 카드할인이 이상해요 ㅡ.ㅡ;; https://www.ppomppu.co.kr/zboard/view.php?id=freeboard&no=8237544&keyword=%B8%C6%BA%CF 2023-02-28 3\n",
      "맥북에어 M2 vs 아이패드프로 M1+키보드 https://www.ppomppu.co.kr/zboard/view.php?id=freeboard&no=8237460&keyword=%B8%C6%BA%CF 2023-02-28 11\n",
      "여행필수품! 75W 접지형 고속멀티충전기 클레버타키온 G21CA https://www.ppomppu.co.kr/zboard/view.php?id=review2&no=65035&keyword=%B8%C6%BA%CF 2023-02-28 0\n",
      "5시반 타임세일 프로그래밍 가능한 맞춤형 매크로 키보드, 매크로패드($28.66/무료) MC LS928 노트북 스탠드 360 회전 가능($19.92/무료) 유그린-USB 블루투스 5.3 5.0 동글 어댑터($5.34/무료) 유그린블루투스마우스($10.0/무료) https://www.ppomppu.co.kr/zboard/view.php?id=ppomppu8&no=12708&keyword=%B8%C6%BA%CF 2023-02-27 7\n",
      "맥북 보안은 아이폰이랑 동급인가요?? https://www.ppomppu.co.kr/zboard/view.php?id=computer&no=671432&keyword=%B8%C6%BA%CF 2023-02-27 1\n",
      "C타입 노트북 모니터 케이블 아트뮤 Type-C to HDMI 미러링 케이블 (2m) 사용기 https://www.ppomppu.co.kr/zboard/view.php?id=review2&no=65027&keyword=%B8%C6%BA%CF 2023-02-26 1\n",
      "주식용 컴퓨터 고민 https://www.ppomppu.co.kr/zboard/view.php?id=freeboard&no=8234416&keyword=%B8%C6%BA%CF 2023-02-25 4\n",
      "\"애플, 배터리 교체 소비자 '똥개훈련' 그만\" 시민단체 분노 https://www.ppomppu.co.kr/zboard/view.php?id=iphone&no=466763&keyword=%B8%C6%BA%CF 2023-02-24 9\n",
      "Toocki GaN 충전기 65W PD 고속 USB 충전기 ($13.91/무료) https://www.ppomppu.co.kr/zboard/view.php?id=ppomppu8&no=12680&keyword=%B8%C6%BA%CF 2023-02-24 22\n",
      "아이폰 카메라의 낮은 퀄리티를 점점 더 많은 사람들이 알아가네요! https://www.ppomppu.co.kr/zboard/view.php?id=phone&no=3749746&keyword=%B8%C6%BA%CF 2023-02-24 17\n",
      "맥북으로 넘어가냐 마냐 그것이 https://www.ppomppu.co.kr/zboard/view.php?id=freeboard&no=8232337&keyword=%B8%C6%BA%CF 2023-02-23 7\n",
      "39인치 커브드 모니터 vs 27 커브드 듀얼모니터 도와주세요 https://www.ppomppu.co.kr/zboard/view.php?id=freeboard&no=8232310&keyword=%B8%C6%BA%CF 2023-02-23 3\n",
      "맥북하고 다른기기 연결할 때 배터리 빨리는 거 멈출수 없나요 https://www.ppomppu.co.kr/zboard/view.php?id=computer&no=671223&keyword=%B8%C6%BA%CF 2023-02-23 8\n",
      "원격을 접속하는 노트북사양에 관하여..질문드립니다. 잘아시는분있을까요. https://www.ppomppu.co.kr/zboard/view.php?id=computer&no=671214&keyword=%B8%C6%BA%CF 2023-02-22 0\n",
      "[단독] 삼성페이보다 더 쉬운 애플페이...최대 무기는 '간편성' https://www.ppomppu.co.kr/zboard/view.php?id=iphone&no=466738&keyword=%B8%C6%BA%CF 2023-02-22 4\n",
      "컴퓨터 스피커 베이스가 약하다고 생각하시는 분들 https://www.ppomppu.co.kr/zboard/view.php?id=computer&no=671554&keyword=%B1%D7%B7%A5 2023-03-01 0\n",
      "동영상 프리미어 원활히 작동할만한 스펙 추천 부탁드립니다.(기존 컴 사양 첨부) https://www.ppomppu.co.kr/zboard/view.php?id=computer&no=671545&keyword=%B1%D7%B7%A5 2023-03-01 0\n",
      "윈도우 복구도 좋네요. https://www.ppomppu.co.kr/zboard/view.php?id=computer&no=671541&keyword=%B1%D7%B7%A5 2023-03-01 3\n",
      "[블로그,인스타] 초고농도 엑소좀 앰플 체험단모집 https://www.ppomppu.co.kr/zboard/view.php?id=experience&no=9795&keyword=%B1%D7%B7%A5 2023-03-01 0\n",
      "KT Y틴 요금제 핫스팟 이용 문의 https://www.ppomppu.co.kr/zboard/view.php?id=phone2&no=1943867&keyword=%B1%D7%B7%A5 2023-03-01 1\n",
      "홈플 장보러갔는데 ㅋㅋㅋㅋ웃긴거 봤네요 ㅋㅋ https://www.ppomppu.co.kr/zboard/view.php?id=freeboard&no=8238485&keyword=%B1%D7%B7%A5 2023-03-01 96\n",
      "[31절 기념 대구 공식 SNS 릴스 댓글 이벤트] https://www.ppomppu.co.kr/zboard/view.php?id=event2&no=84703&keyword=%B1%D7%B7%A5 2023-03-01 0\n",
      "[뉴스] 피지컬: 100 준우승 정해민, 그가 직접 말하는 결승전 https://www.ppomppu.co.kr/zboard/view.php?id=freeboard&no=8238331&keyword=%B1%D7%B7%A5 2023-03-01 0\n",
      "mycloud os5에서 apt-get 명령어 사용가능한가요?한글?? https://www.ppomppu.co.kr/zboard/view.php?id=nas&no=44277&keyword=%B1%D7%B7%A5 2023-03-01 0\n",
      "황영웅 \"1위하면 기부\" 과거 논란에도 '불타는 트롯맨' 1위 질주 https://www.ppomppu.co.kr/zboard/view.php?id=freeboard&no=8238183&keyword=%B1%D7%B7%A5 2023-03-01 0\n",
      "(끌올)[네이버페이] 즉시 적립 및 팔로우 & 구독류 모음 https://www.ppomppu.co.kr/zboard/view.php?id=coupon&no=82003&keyword=%B1%D7%B7%A5 2023-02-28 20\n",
      "Chatgpt 활용을 위한 크롬 확장프로그램 https://www.ppomppu.co.kr/zboard/view.php?id=etc_info&no=36980&keyword=%B1%D7%B7%A5 2023-02-28 84\n",
      "황모씨가 학폭 가해자의 새로운 길을 보여주겠네요 https://www.ppomppu.co.kr/zboard/view.php?id=freeboard&no=8237897&keyword=%B1%D7%B7%A5 2023-02-28 21\n",
      "황웅 편집없이 나오네요 https://www.ppomppu.co.kr/zboard/view.php?id=freeboard&no=8237850&keyword=%B1%D7%B7%A5 2023-02-28 2\n",
      "한국은 진짜 주작이 넘치네요 https://www.ppomppu.co.kr/zboard/view.php?id=freeboard&no=8237835&keyword=%B1%D7%B7%A5 2023-02-28 6\n",
      "로지텍 리프트 핫트랙스몰 샀는데요 일련번호 SN 원래 다른가요? https://www.ppomppu.co.kr/zboard/view.php?id=computer&no=671508&keyword=%B1%D7%B7%A5 2023-02-28 1\n",
      "다들 피지컬100 인정 하시나요? https://www.ppomppu.co.kr/zboard/view.php?id=freeboard&no=8237806&keyword=%B1%D7%B7%A5 2023-02-28 8\n",
      "강철부대 vs 피지컬100 https://www.ppomppu.co.kr/zboard/view.php?id=freeboard&no=8237759&keyword=%B1%D7%B7%A5 2023-02-28 1\n",
      "학폭 가해자인데 왜 결승 진출한다는거져?ㅠ https://www.ppomppu.co.kr/zboard/view.php?id=freeboard&no=8237749&keyword=%B1%D7%B7%A5 2023-02-28 12\n",
      "피지컬100은 조작이라고 보긴 어렵죠. https://www.ppomppu.co.kr/zboard/view.php?id=freeboard&no=8237702&keyword=%B1%D7%B7%A5 2023-02-28 22\n",
      "2월 인기 뉴진스 1위 임영웅 2위 https://www.ppomppu.co.kr/zboard/view.php?id=freeboard&no=8237678&keyword=%B4%BA%C1%F8%BD%BA 2023-02-28 1\n",
      "뉴진스 출근룩 티져 https://www.ppomppu.co.kr/zboard/view.php?id=humor&no=552643&keyword=%B4%BA%C1%F8%BD%BA 2023-02-28 2\n",
      "오늘 베스트글 근황 (2023-02-27 월요일) https://www.ppomppu.co.kr/zboard/view.php?id=humor&no=552539&keyword=%B4%BA%C1%F8%BD%BA 2023-02-27 0\n",
      "뉴진스 애들 보면 약간 이효리 데뷔 초 같지않나요? https://www.ppomppu.co.kr/zboard/view.php?id=freeboard&no=8236407&keyword=%B4%BA%C1%F8%BD%BA 2023-02-27 7\n",
      "\"뉴진스 민지\" 여중딩, 여고딩 졸업사진ㄷㄷ https://www.ppomppu.co.kr/zboard/view.php?id=humor&no=552500&keyword=%B4%BA%C1%F8%BD%BA 2023-02-27 36\n",
      "걸그룹 보이그룹은 대한민국이최고인가요? https://www.ppomppu.co.kr/zboard/view.php?id=freeboard&no=8236194&keyword=%B4%BA%C1%F8%BD%BA 2023-02-27 9\n",
      "뉴진스 언플로 뜬거라는분이 많네요 https://www.ppomppu.co.kr/zboard/view.php?id=freeboard&no=8236142&keyword=%B4%BA%C1%F8%BD%BA 2023-02-27 14\n",
      "맥도날드 근황 .jpg https://www.ppomppu.co.kr/zboard/view.php?id=freeboard&no=8236019&keyword=%B4%BA%C1%F8%BD%BA 2023-02-27 57\n",
      "오늘 베스트글 근황 (2023-02-26 일요일) https://www.ppomppu.co.kr/zboard/view.php?id=humor&no=552409&keyword=%B4%BA%C1%F8%BD%BA 2023-02-26 0\n",
      "슬금슬금 오르는 음원.jpg https://www.ppomppu.co.kr/zboard/view.php?id=freeboard&no=8235465&keyword=%B4%BA%C1%F8%BD%BA 2023-02-26 3\n",
      "인기가요 1위후보 ( 스테이씨 vs 뉴진스 vs 뉴진스) https://www.ppomppu.co.kr/zboard/view.php?id=freeboard&no=8235386&keyword=%B4%BA%C1%F8%BD%BA 2023-02-26 8\n",
      "뉴진스 하니 근황.jpg https://www.ppomppu.co.kr/zboard/view.php?id=freeboard&no=8235282&keyword=%B4%BA%C1%F8%BD%BA 2023-02-26 65\n",
      "S.E.S. 유진 혼자추는 뉴진스 Hype Boy.mp4 https://www.ppomppu.co.kr/zboard/view.php?id=freeboard&no=8235124&keyword=%B4%BA%C1%F8%BD%BA 2023-02-26 15\n",
      "맥도날드 새 광고모델 https://www.ppomppu.co.kr/zboard/view.php?id=freeboard&no=8234696&keyword=%B4%BA%C1%F8%BD%BA 2023-02-25 8\n",
      "오늘 베스트글 근황 (2023-02-25 토요일) https://www.ppomppu.co.kr/zboard/view.php?id=humor&no=552332&keyword=%B4%BA%C1%F8%BD%BA 2023-02-25 0\n",
      "실시간 맥도날드 모델 뉴진스ㄷㄷㄷㄷㄷㄷ..jpg https://www.ppomppu.co.kr/zboard/view.php?id=freeboard&no=8233556&keyword=%B4%BA%C1%F8%BD%BA 2023-02-24 3\n",
      "뉴진스가 신드롬이 된 이유. https://www.ppomppu.co.kr/zboard/view.php?id=freeboard&no=8233473&keyword=%B4%BA%C1%F8%BD%BA 2023-02-24 14\n",
      "뉴진스가 크게 뜬 이유가 뭘까요? https://www.ppomppu.co.kr/zboard/view.php?id=freeboard&no=8233429&keyword=%B4%BA%C1%F8%BD%BA 2023-02-24 29\n",
      "뉴진스 맥도날드 모델은 진짜네요 https://www.ppomppu.co.kr/zboard/view.php?id=freeboard&no=8233415&keyword=%B4%BA%C1%F8%BD%BA 2023-02-24 3\n",
      "뉴진스, 맥도날드 모델로 발탁.jpg https://www.ppomppu.co.kr/zboard/view.php?id=freeboard&no=8233300&keyword=%B4%BA%C1%F8%BD%BA 2023-02-24 8\n"
     ]
    },
    {
     "data": {
      "text/plain": [
       "12.037775039672852"
      ]
     },
     "execution_count": 261,
     "metadata": {},
     "output_type": "execute_result"
    }
   ],
   "source": [
    "word_list = ['맥북', '그램', '뉴진스', '니ㅏ펀']\n",
    "\n",
    "pp_crawling(word_list)"
   ]
  },
  {
   "attachments": {},
   "cell_type": "markdown",
   "metadata": {},
   "source": [
    "### 웃대\n",
    "---\n",
    "\n",
    "- 검색 사이트 바로 검색 안됨\n",
    "- 검색어 [] 웃긴대학 내부 검색은 특수문자를 제외한 검색어가 한글 2자/영문 4자 이상이어야 검색 가능합니다.\n",
    "- 해당 내용이 많으면 로딩 페이지 넘어감\n"
   ]
  },
  {
   "cell_type": "code",
   "execution_count": 305,
   "metadata": {},
   "outputs": [],
   "source": [
    "#Selenium_driver로 url 접속\n",
    "url = \"http://web.humoruniv.com/main.html\"\n",
    "driver.get(url)\n",
    "#Selenium_접속하는 데 시간이 걸릴 수 있으므로 1초 기다림\n",
    "time.sleep(1)\n",
    "\n",
    "# 특수문자를 제외한 검색어가 한글 2자/영문 4자 이상이어야 검색 가능\n",
    "# if word \n",
    "\n",
    "\n",
    "x_path_search = '//*[@id=\"search_text\"]'\n",
    "searchbox = driver.find_element(By.XPATH, x_path_search)\n",
    "searchbox.click()\n",
    "element = driver.find_element(By.NAME, \"search_text\")\n",
    "element.send_keys(\"1가re\")\n",
    "element.submit()\n",
    "\n",
    "#BeautifulSoup_html을 Parsing 함\n",
    "soup = BeautifulSoup(driver.page_source, 'html.parser')\n",
    "\n",
    "search_in_commu = soup.find_all('td', style =\"word-break: break-all;\")\n",
    "for search in search_in_commu: \n",
    "    title = search.find('a').get_text()\n",
    "    print(title)\n",
    "    url = search.find('a')['href']\n",
    "    print(url)\n",
    "    date = search.find('font').get_text().split(' ')[0]\n",
    "    print(date)\n",
    "    comment_cnt = search.find('font', color = 'green').get_text().split(' ')[1]\n",
    "    print(comment_cnt)\n"
   ]
  },
  {
   "cell_type": "code",
   "execution_count": 299,
   "metadata": {},
   "outputs": [],
   "source": [
    "def hu_crawling(driver:webdriver, word_list : list):\n",
    "    for word in word_list:\n",
    "        # 웃대는 search link에서 바로 검색 안됨\n",
    "        url = \"http://web.humoruniv.com/main.html\" \n",
    "        driver.get(url)\n",
    "        time.sleep(1)\n",
    "        # 특수문자를 제외한 검색어가 한글 2자/영문 4자 이상이어야 검색 가능\n",
    "        # if word \n",
    "\n",
    "        x_path_search = '//*[@id=\"search_text\"]'\n",
    "        searchbox = driver.find_element(By.XPATH, x_path_search)\n",
    "        searchbox.click()\n",
    "        element = driver.find_element(By.NAME, \"search_text\")\n",
    "        element.send_keys(word)\n",
    "        element.submit()\n",
    "\n",
    "        soup = BeautifulSoup(driver.page_source, 'html.parser')\n",
    "        search_in_commu = soup.find_all('td', style =\"word-break: break-all;\")\n",
    "        for search in search_in_commu: \n",
    "            title = search.find('a').get_text()\n",
    "            url = search.find('a')['href']\n",
    "            date = search.find('font').get_text().split(' ')[0]\n",
    "            comment_cnt = search.find('font', color = 'green').get_text().split(' ')[1]\n",
    "            print(title, url, date, comment_cnt)"
   ]
  },
  {
   "cell_type": "code",
   "execution_count": null,
   "metadata": {},
   "outputs": [],
   "source": [
    "word_list = ['맥북', '그램', '뉴진스', '니ㅏ펀']\n",
    "\n",
    "hu_crawling(word_list)"
   ]
  },
  {
   "cell_type": "code",
   "execution_count": 358,
   "metadata": {},
   "outputs": [
    {
     "data": {
      "text/plain": [
       "('as4아주', 7)"
      ]
     },
     "execution_count": 358,
     "metadata": {},
     "output_type": "execute_result"
    }
   ],
   "source": [
    "import re\n",
    "\n",
    "def has_more_than_two_korean_or_four_english(word):\n",
    "    korean_pattern = re.compile('[가-힣]{2,}') # Matches 2 or more Korean characters\n",
    "    english_pattern = re.compile('[a-zA-Z]{4,}') # Matches 4 or more English characters\n",
    "\n",
    "    # Remove all special characters from the word\n",
    "    cleaned_word = re.sub('[^가-힣a-zA-Z0-9]+', '', word)\n",
    "    # cleaned_word = re.sub('[-=+,#/?:^.@*\"※~ㆍ!』‘|(%}{)\\[\\]`$_><;&\\\\\\…》”“’·]', '', word)\n",
    "\n",
    "    # Check if the cleaned word has more than 2 Korean characters or 4 English characters\n",
    "    if korean_pattern.search(cleaned_word) or english_pattern.search(cleaned_word):\n",
    "        return cleaned_word,True\n",
    "    else:\n",
    "        return cleaned_word,False\n",
    "    \n",
    "has_more_than_two_korean_or_four_english('韓国語会話나4**!@#$)!#$^#(*%$(&#@$^@#)!_+!+#$%@#_)$(%@$%)!@#$&):\"{}?></;][\\|]`~')"
   ]
  },
  {
   "cell_type": "code",
   "execution_count": null,
   "metadata": {},
   "outputs": [],
   "source": [
    "# https://bonita-sy.tistory.com/174  한국어, 일본어, 한자, 영어, 숫자 정규표현식\n",
    "\n",
    "def count_word_len(word, ):\n",
    "    korean_pattern = re.compile('[가-힣]{2,}') # Matches 2 or more Korean characters\n",
    "    english_pattern = re.compile('[a-zA-Z]{4,}') # Matches 4 or more English characters\n",
    "    # # Remove all special characters from the word\n",
    "    cleaned_word = re.sub('[^가-힣a-zA-Z0-9ぁ-ゔァ-ヴー々〆〤一-龥]+', '', word)\n",
    "    word_len = len(bytes(cleaned_word, 'euc-kr'))\n",
    "    return cleaned_word, word_len\n",
    "    # Check if the cleaned word has more than 2 Korean characters or 4 English characters\n",
    "    if korean_pattern.search(cleaned_word) or english_pattern.search(cleaned_word):\n",
    "        return cleaned_word,True\n",
    "    else:\n",
    "        return cleaned_word,False\n",
    "    \n",
    "count_word_len('as4아주** !@#$)!#$^#(*%$(&#@$^@#)!_+!+#$%@#_)$(%@$%)!@#$&):\"}{?></;][\\|]`~')"
   ]
  },
  {
   "cell_type": "code",
   "execution_count": 353,
   "metadata": {},
   "outputs": [
    {
     "name": "stdout",
     "output_type": "stream",
     "text": [
      "7\n"
     ]
    }
   ],
   "source": [
    "a = 'as4* 가'\n",
    "print(len(bytes(a, 'euc-kr')))"
   ]
  },
  {
   "attachments": {},
   "cell_type": "markdown",
   "metadata": {},
   "source": [
    "### 엠팍\n"
   ]
  },
  {
   "cell_type": "code",
   "execution_count": 418,
   "metadata": {},
   "outputs": [
    {
     "name": "stdout",
     "output_type": "stream",
     "text": [
      "뉴진스 해린 https://mlbpark.donga.com/mp/b.php?id=202303010078634848&p=1&b=bullpen&m=view&select=sct&query=%EB%89%B4%EC%A7%84%EC%8A%A4&user=&site=donga.com 2023-03-01 2\n",
      "뉴진스 닮은 꼴 정리.JPG https://mlbpark.donga.com/mp/b.php?id=202303010078633192&p=1&b=bullpen&m=view&select=sct&query=%EB%89%B4%EC%A7%84%EC%8A%A4&user=&site=donga.com 2023-03-01 3\n",
      "[뉴진스] 멜론차트 역사상 최초 두달 연속 월간차트 TOP3.jpg https://mlbpark.donga.com/mp/b.php?id=202303010078632367&p=1&b=bullpen&m=view&select=sct&query=%EB%89%B4%EC%A7%84%EC%8A%A4&user=&site=donga.com 2023-03-01 1\n",
      "23년을 기점으로 걸그룹 컨셉에 대대적인 변화가 일어날거 같긴 한데 https://mlbpark.donga.com/mp/b.php?id=202303010078631758&p=1&b=bullpen&m=view&select=sct&query=%EB%89%B4%EC%A7%84%EC%8A%A4&user=&site=donga.com 2023-03-01 5\n",
      "뉴진스 하니 밀라노 패션위크 화보.jpg https://mlbpark.donga.com/mp/b.php?id=202303010078631506&p=1&b=bullpen&m=view&select=sct&query=%EB%89%B4%EC%A7%84%EC%8A%A4&user=&site=donga.com 2023-03-01 3\n",
      "뉴진스 하니는 한국 남자랑 결혼하겠죠? https://mlbpark.donga.com/mp/b.php?id=202303010078630519&p=1&b=bullpen&m=view&select=sct&query=%EB%89%B4%EC%A7%84%EC%8A%A4&user=&site=donga.com 2023-03-01 4\n",
      "뉴진스 데뷔 후 정산받기까지 기간.jpg https://mlbpark.donga.com/mp/b.php?id=202303010078630075&p=1&b=bullpen&m=view&select=sct&query=%EB%89%B4%EC%A7%84%EC%8A%A4&user=&site=donga.com 2023-03-01 7\n",
      "뉴진스 하니가 태연보다 노래 더 잘하네요 https://mlbpark.donga.com/mp/b.php?id=202303010078628200&p=1&b=bullpen&m=view&select=sct&query=%EB%89%B4%EC%A7%84%EC%8A%A4&user=&site=donga.com 2023-03-01 8\n",
      "뉴진스 https://mlbpark.donga.com/mp/b.php?id=202303010078627744&p=1&b=bullpen&m=view&select=sct&query=%EB%89%B4%EC%A7%84%EC%8A%A4&user=&site=donga.com 2023-03-01 6\n",
      "뉴진스는 비쥬얼 멤버 하나도 없는 거 같은데 순수 노래로 뜬건가요? https://mlbpark.donga.com/mp/b.php?id=202303010078627606&p=1&b=bullpen&m=view&select=sct&query=%EB%89%B4%EC%A7%84%EC%8A%A4&user=&site=donga.com 2023-03-01 9\n",
      "뉴진스 다니엘 캐릭터 확실하다고 느낀 장면 https://mlbpark.donga.com/mp/b.php?id=202303010078627072&p=1&b=bullpen&m=view&select=sct&query=%EB%89%B4%EC%A7%84%EC%8A%A4&user=&site=donga.com 2023-03-01 2\n",
      "온세뉴라는 말 어디서 나온거에요??? https://mlbpark.donga.com/mp/b.php?id=202303010078625527&p=1&b=bullpen&m=view&select=sct&query=%EB%89%B4%EC%A7%84%EC%8A%A4&user=&site=donga.com 2023-03-01 4\n",
      "멜론 1,2,3위가 뉴진스네요 ㄷㄷㄷ https://mlbpark.donga.com/mp/b.php?id=202303010078624903&p=1&b=bullpen&m=view&select=sct&query=%EB%89%B4%EC%A7%84%EC%8A%A4&user=&site=donga.com 2023-03-01 0\n",
      "뉴진스 디토 3월 월간도 1위 가능할까요?? https://mlbpark.donga.com/mp/b.php?id=202303010078624726&p=1&b=bullpen&m=view&select=sct&query=%EB%89%B4%EC%A7%84%EC%8A%A4&user=&site=donga.com 2023-03-01 6\n",
      "뉴진스 하니 이거 안무 틀린거 맞죠? 판별좀 https://mlbpark.donga.com/mp/b.php?id=202303010078624531&p=1&b=bullpen&m=view&select=sct&query=%EB%89%B4%EC%A7%84%EC%8A%A4&user=&site=donga.com 2023-03-01 7\n",
      "뉴진스) 멜론 최초 두달 연속 월간차트 TOP3.jpg https://mlbpark.donga.com/mp/b.php?id=202303010078624489&p=1&b=bullpen&m=view&select=sct&query=%EB%89%B4%EC%A7%84%EC%8A%A4&user=&site=kakao.com 2023-03-01 8\n",
      "뉴진스 계속 보니 하니가 에이스 군요 https://mlbpark.donga.com/mp/b.php?id=202303010078624219&p=1&b=bullpen&m=view&select=sct&query=%EB%89%B4%EC%A7%84%EC%8A%A4&user=&site=donga.com 2023-03-01 4\n",
      "멜론 2월 월간 차트 1위 2위 3위 jpg https://mlbpark.donga.com/mp/b.php?id=202303010078624030&p=1&b=bullpen&m=view&select=sct&query=%EB%89%B4%EC%A7%84%EC%8A%A4&user=&site=donga.com 2023-03-01 0\n",
      "[뉴진스] 멜론 2월 월간 top3 https://mlbpark.donga.com/mp/b.php?id=202303010078623931&p=1&b=bullpen&m=view&select=sct&query=%EB%89%B4%EC%A7%84%EC%8A%A4&user=&site=donga.com 2023-03-01 6\n",
      "역대 최강 걸그룹 라인업 https://mlbpark.donga.com/mp/b.php?id=202303010078621879&p=1&b=bullpen&m=view&select=sct&query=%EB%89%B4%EC%A7%84%EC%8A%A4&user=&site=donga.com 2023-03-01 9\n",
      "뉴진스 다니엘 이친구 뺴고 4인조가 나았을거 같네요 https://mlbpark.donga.com/mp/b.php?id=202303010078621573&p=1&b=bullpen&m=view&select=sct&query=%EB%89%B4%EC%A7%84%EC%8A%A4&user=&site=donga.com 2023-03-01 15\n",
      "뉴진스 때문에 하이브 주식 3억치 매수할 예정입니다 https://mlbpark.donga.com/mp/b.php?id=202303010078621324&p=1&b=bullpen&m=view&select=sct&query=%EB%89%B4%EC%A7%84%EC%8A%A4&user=&site=donga.com 2023-03-01 6\n",
      "베트남 가면 뉴진스 하니처럼 생긴 친구들 많습니다 https://mlbpark.donga.com/mp/b.php?id=202303010078621117&p=1&b=bullpen&m=view&select=sct&query=%EB%89%B4%EC%A7%84%EC%8A%A4&user=&site=donga.com 2023-03-01 3\n",
      "[뉴진스] 맥도날드 tv 광고 https://mlbpark.donga.com/mp/b.php?id=202303010078620001&p=1&b=bullpen&m=view&select=sct&query=%EB%89%B4%EC%A7%84%EC%8A%A4&user=&site=donga.com 2023-03-01 1\n",
      "SM, 주주에 서한...\"하이브, 좋은 곡 뉴진스 소속사 먼저 줄것\" https://mlbpark.donga.com/mp/b.php?id=202303010078619782&p=1&b=bullpen&m=view&select=sct&query=%EB%89%B4%EC%A7%84%EC%8A%A4&user=&site=donga.com 2023-03-01 14\n",
      "[뉴진스] 맥도날드 인스타 https://mlbpark.donga.com/mp/b.php?id=202303010078618183&p=1&b=bullpen&m=view&select=sct&query=%EB%89%B4%EC%A7%84%EC%8A%A4&user=&site=donga.com 2023-03-01 4\n",
      "뉴진스 민지는 ditto 작사에 참여했군요. https://mlbpark.donga.com/mp/b.php?id=202303010078616971&p=1&b=bullpen&m=view&select=sct&query=%EB%89%B4%EC%A7%84%EC%8A%A4&user=&site=donga.com 2023-03-01 0\n",
      "4세대 같은 2세대 아이돌 근황 ㄷㄷㄷㄷㄷㄷㄷㄷㄷㄷ ... jpg https://mlbpark.donga.com/mp/b.php?id=202303010078616284&p=1&b=bullpen&m=view&select=sct&query=%EB%89%B4%EC%A7%84%EC%8A%A4&user=&site=donga.com 2023-03-01 6\n",
      "뉴진스 'OMG', 美빌보드 '핫 100' 6주 연속 차트인 https://mlbpark.donga.com/mp/b.php?id=202303010078616242&p=1&b=bullpen&m=view&select=sct&query=%EB%89%B4%EC%A7%84%EC%8A%A4&user=&site=donga.com 2023-03-01 0\n",
      "뉴진스 하입보이 후렴구부분이랑 안무 미쳤네요 https://mlbpark.donga.com/mp/b.php?id=202303010078615831&p=1&b=bullpen&m=view&select=sct&query=%EB%89%B4%EC%A7%84%EC%8A%A4&user=&site=donga.com 2023-03-01 4\n"
     ]
    }
   ],
   "source": [
    "# Set up Chrome options\n",
    "chrome_options = Options()\n",
    "chrome_options.add_argument(\"--headless\")  # Run Chrome in headless mode (without GUI)\n",
    "chrome_options.add_argument('--blink-settings=imagesEnabled=false') # Not load image\n",
    "\n",
    "# Set up Chrome webdriver\n",
    "driver = webdriver.Chrome(options=chrome_options)\n",
    "\n",
    "start = time.time()\n",
    "word = '뉴진스'\n",
    "url = f'https://mlbpark.donga.com/mp/b.php?search_select=sct&search_input={word}&x=0&y=0&select=sct&m=search&b=bullpen&query={word}'\n",
    "driver.get(url)\n",
    "time.sleep(1)\n",
    "\n",
    "# BeautifulSoup_html을 Parsing 함\n",
    "soup = BeautifulSoup(driver.page_source, 'html.parser')\n",
    "search_in_commu = soup.select('tr')\n",
    "# print(search_in_commu)\n",
    "for search in search_in_commu: \n",
    "    if search.find('a') is not None:\n",
    "        title = search.find('a', class_ = 'txt').get_text()\n",
    "        url = search.find('a', class_ = 'txt')['href']\n",
    "        date = search.find('span', class_ = 'date').get_text()\n",
    "        if ':' in date: # yyyy-mm-dd 형식 맞춰줌\n",
    "            date = datetime.now().date()\n",
    "        try:\n",
    "            comment_cnt = search.find('span', class_ = 'replycnt').get_text()\n",
    "            comment_cnt = int(re.sub('[\\]\\[]', '', comment_cnt))\n",
    "        except AttributeError:\n",
    "            comment_cnt = 0\n",
    "        print(title, url, date, comment_cnt)\n",
    "# print(f\"소요시간 ==>>> {time.time() - start}\")"
   ]
  },
  {
   "cell_type": "code",
   "execution_count": 421,
   "metadata": {},
   "outputs": [
    {
     "name": "stdout",
     "output_type": "stream",
     "text": [
      "<class 'selenium.webdriver.chrome.webdriver.WebDriver'>\n"
     ]
    }
   ],
   "source": [
    "print(type(driver))"
   ]
  },
  {
   "cell_type": "code",
   "execution_count": 424,
   "metadata": {},
   "outputs": [],
   "source": [
    "def mp_crwaling(driver:webdriver, word_list: list):\n",
    "    '''\n",
    "    mlbpark 사이트에서 크롤링하는 함수. \n",
    "    검색어 단어들이 리스트로 들어오면 for문으로 각 단어 결과를 파싱한 후 title, url, date, comment_cnt를 반환\n",
    "    \n",
    "    - input \n",
    "        word_list(list) : 연관어 리스트\n",
    "        driver(webdriver) : selenium.webdriver.chrome.webdriver\n",
    "    - output  \n",
    "        title(str) : 제목\n",
    "        url(str) : 해당 url\n",
    "        date(str) : 작성일(yyyy-mm-dd 형식)\n",
    "        comment_cnt(int) : 댓글수\n",
    "    '''\n",
    "    \n",
    "    start = time.time()\n",
    "    for word in word_list:\n",
    "        word = '뉴진스'\n",
    "        url = f'https://mlbpark.donga.com/mp/b.php?search_select=sct&search_input={word}&x=0&y=0&select=sct&m=search&b=bullpen&query={word}'\n",
    "        driver.get(url)\n",
    "        time.sleep(1)\n",
    "\n",
    "        soup = BeautifulSoup(driver.page_source, 'html.parser')\n",
    "        search_in_commu = soup.select('tr')\n",
    "        for search in search_in_commu: \n",
    "            if search.find('a') is not None:\n",
    "                title = search.find('a', class_ = 'txt').get_text()\n",
    "                url = search.find('a', class_ = 'txt')['href']\n",
    "                date = search.find('span', class_ = 'date').get_text()\n",
    "                if ':' in date: # 당일 작성 내용은 시간으로 표시되어 오늘 날짜로 넣어줌\n",
    "                    date = datetime.now().date()\n",
    "                try:\n",
    "                    comment_cnt = search.find('span', class_ = 'replycnt').get_text()\n",
    "                    comment_cnt = int(re.sub('[\\]\\[]', '', comment_cnt))\n",
    "                except AttributeError:\n",
    "                    comment_cnt = 0\n",
    "                print(title, url, date, comment_cnt)\n",
    "    return title, url, date, comment_cnt"
   ]
  },
  {
   "cell_type": "code",
   "execution_count": null,
   "metadata": {},
   "outputs": [],
   "source": [
    "word_list = ['맥북', '그램', '뉴진스', '니ㅏ펀']\n",
    "\n",
    "mp_crwaling(driver, word_list)\n"
   ]
  }
 ],
 "metadata": {
  "kernelspec": {
   "display_name": "Python 3",
   "language": "python",
   "name": "python3"
  },
  "language_info": {
   "codemirror_mode": {
    "name": "ipython",
    "version": 3
   },
   "file_extension": ".py",
   "mimetype": "text/x-python",
   "name": "python",
   "nbconvert_exporter": "python",
   "pygments_lexer": "ipython3",
   "version": "3.11.0"
  },
  "orig_nbformat": 4,
  "vscode": {
   "interpreter": {
    "hash": "613be4257a235896c62c6cddf239c19cb31941bb1e932190aafc389901e7e74e"
   }
  }
 },
 "nbformat": 4,
 "nbformat_minor": 2
}
