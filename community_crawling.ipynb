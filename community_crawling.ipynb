{
 "cells": [
  {
   "cell_type": "code",
   "execution_count": 2,
   "metadata": {},
   "outputs": [],
   "source": [
    "# webdriver-manager 설치 \n",
    "# ! pip install webdriver-manager\n",
    "# Webdriver import\n",
    "from selenium import webdriver\n",
    "from selenium.webdriver.chrome.service import Service\n",
    "from webdriver_manager.chrome import ChromeDriverManager\n",
    "from selenium.webdriver.common.by import By \n",
    "from selenium.webdriver.common.keys import Keys\n",
    "from selenium.webdriver.chrome.options import Options\n",
    "\n",
    "# Crawling import\n",
    "import requests\n",
    "from bs4 import BeautifulSoup\n",
    "import time\n",
    "import re\n",
    "from datetime import datetime\n",
    "\n",
    "### DB connect import\n",
    "import pymysql\n",
    "import pandas as pd\n",
    "from tqdm import tqdm\n"
   ]
  },
  {
   "attachments": {},
   "cell_type": "markdown",
   "metadata": {},
   "source": [
    "### 웹드라이버 로드"
   ]
  },
  {
   "cell_type": "code",
   "execution_count": 3,
   "metadata": {},
   "outputs": [
    {
     "name": "stderr",
     "output_type": "stream",
     "text": [
      "[WDM] - Downloading: 100%|██████████| 6.78M/6.78M [00:02<00:00, 3.26MB/s]\n"
     ]
    }
   ],
   "source": [
    "def setup_chrome_driver():\n",
    "    chrome_options = Options()\n",
    "    chrome_options.add_argument(\"--headless\")  # Run Chrome in headless mode (without GUI)\n",
    "    chrome_options.add_argument('--blink-settings=imagesEnabled=false') # Not load image\n",
    "\n",
    "    # install Chrome webdriver\n",
    "    driver = webdriver.Chrome(service=Service(ChromeDriverManager().install()), options=chrome_options)\n",
    "    return driver\n",
    "\n",
    "driver = setup_chrome_driver()"
   ]
  },
  {
   "attachments": {},
   "cell_type": "markdown",
   "metadata": {},
   "source": [
    "### 에펨\n"
   ]
  },
  {
   "cell_type": "code",
   "execution_count": 4,
   "metadata": {},
   "outputs": [],
   "source": [
    "def fm_crawling(driver:webdriver, word_list : list):\n",
    "    '''\n",
    "    에펨코리아 사이트에서 크롤링하는 함수. \n",
    "    검색어 단어들이 리스트로 들어오면 for문으로 각 단어 결과를 파싱한 후 title, url, date, comment_cnt를 반환\n",
    "    \n",
    "    - input \n",
    "        word_list(list) : 연관어 리스트\n",
    "        driver(webdriver) : selenium.webdriver.chrome.webdriver\n",
    "    - output  \n",
    "        title(str) : 제목\n",
    "        url(str) : 해당 url\n",
    "        date(str) : 작성일(yyyy-mm-dd 형식)\n",
    "        comment_cnt(int) : 댓글수\n",
    "    '''\n",
    "\n",
    "    start = time.time()\n",
    "    for word in word_list:\n",
    "        url = f'https://www.fmkorea.com/search.php?act=IS&is_keyword={word}'\n",
    "        driver.get(url)\n",
    "        time.sleep(1)\n",
    "\n",
    "        soup = BeautifulSoup(driver.page_source, 'html.parser')\n",
    "        search_in_commu = soup.find('ul', class_=\"searchResult\")\n",
    "        for search in search_in_commu: \n",
    "            if search != ' ':\n",
    "                if search_in_commu.find('a') is not None:\n",
    "                    title = search.find('a').get_text().split(']')\n",
    "                    title = ' '.join(']'.join(title[1:]).split(' '))\n",
    "                    url = f\"https://www.fmkorea.com{search.find('a')['href']}\"\n",
    "                    date = search.find('span', class_ = 'time').get_text().split(' ')[0] # 형식 yyyy-mm-dd\n",
    "                    try:\n",
    "                        comment_cnt = int(search.find('em').get_text())\n",
    "                    except AttributeError:   # 댓글 없는 경우\n",
    "                        comment_cnt = 0\n",
    "                    print(title, url, comment_cnt, date)\n",
    "    end = time.time() - start\n",
    "    return end"
   ]
  },
  {
   "cell_type": "code",
   "execution_count": 5,
   "metadata": {},
   "outputs": [
    {
     "name": "stdout",
     "output_type": "stream",
     "text": [
      " 서피스 프로9 vs 맥북에어13 https://www.fmkorea.com/5553381416 2 2023-03-05\n",
      " 형님들 노트북 추천 부탁드리겠습니다. https://www.fmkorea.com/5553317433 2 2023-03-05\n",
      " 페어링 순서에 따라 끊김이 다른게 신기하네 https://www.fmkorea.com/5553272553 0 2023-03-05\n",
      " 쿠팡 애플 반품 뽑기 실패 https://www.fmkorea.com/5552910714 6 2023-03-05\n",
      " 맥북프로 14인치 hdmi 질문좀 https://www.fmkorea.com/5552783246 5 2023-03-05\n",
      " 서치2 대외비 후기 https://www.fmkorea.com/5552313583 0 2023-03-05\n",
      " 맥북 애케플 그냥 안들었음.. https://www.fmkorea.com/5552306330 6 2023-03-05\n",
      " 디x) 이 팔찌 얼마짜리 같아 https://www.fmkorea.com/5551776555 9 2023-03-05\n",
      " m2 맥북프로 14 구매완료 https://www.fmkorea.com/5551649875 1 2023-03-05\n",
      " 걍 싼 노트북 아무거나 알아봐야지 https://www.fmkorea.com/5551648365 0 2023-03-05\n",
      " 블랙핑크 지수 솔로곡 나오나?? https://www.fmkorea.com/5553492459 2 2023-03-06\n",
      " 대학생 기숙사에서 쓸 키보드 좀 추천해주세요 https://www.fmkorea.com/5553490455 2 2023-03-06\n",
      " 지금까지 컴이 왜 렉이 먹나하고 계속 찾아봣엇는데 https://www.fmkorea.com/5553453742 12 2023-03-06\n",
      " YG 새 걸그룹 BABYMONSTER 서바이벌 프로그램 - 'Last Evaluation' TEASER / 탈락자가 존재한다 https://www.fmkorea.com/5553441322 8 2023-03-06\n",
      " 유튜브 화질 고정 확장프로그램 쓰니깐 펨코 글에서 계속 한무 로딩뜨네 https://www.fmkorea.com/5553394730 2 2023-03-05\n",
      " 3월5일자 '매','매정우' 김정우 밥상(미니쉘님 요리실력).JPG https://www.fmkorea.com/5553307524 7 2023-03-05\n",
      " 15/15 어썌뢧불 굴룬에 삽니다 https://www.fmkorea.com/5553236151 0 2023-03-05\n",
      " 근 3개월동안 먹고싶은거 다먹고 딱히 식단조절없이 3키로뺏음 https://www.fmkorea.com/5553195571 17 2023-03-05\n",
      " lol esports 공식 인스타그램 https://www.fmkorea.com/5553180825 4 2023-03-05\n",
      " 1박2일이 현재까지 장수하는 이유.jpg https://www.fmkorea.com/5553147331 182 2023-03-05\n",
      " 나도 뉴진스 앨범상은 살짝 이해 안되긴 했는데 https://www.fmkorea.com/5553465769 0 2023-03-06\n",
      " 엥 뭐여 뉴진스 앨범 수록곡 5개 안 되는 구나 https://www.fmkorea.com/5553456170 0 2023-03-06\n",
      " 하나둘 뜨는구나 많은 그룹에서 https://www.fmkorea.com/5553446799 0 2023-03-06\n",
      " 걍 되는 집안 250, 한국대중음악상 ‘올해의 음반’ 등 4관왕…뉴진스 3관왕 https://www.fmkorea.com/5553412467 1 2023-03-05\n",
      " 한대음 수상 나왔었네 https://www.fmkorea.com/5553238417 0 2023-03-05\n",
      " 온 세상이   뉴진스다 https://www.fmkorea.com/5553126535 5 2023-03-05\n",
      " 아이브나 아이들이나 하나는 타갈 수도 있었는데 https://www.fmkorea.com/5553122725 0 2023-03-05\n",
      " 뉴진스 토끼 그립톡 한 배우 https://www.fmkorea.com/5553111520 3 2023-03-05\n",
      " 룩삼방 250의 뽕 흡수당하는중 https://www.fmkorea.com/5553067739 0 2023-03-05\n",
      " 뉴진스의 시대는 갔다 https://www.fmkorea.com/5553065180 10 2023-03-05\n"
     ]
    },
    {
     "data": {
      "text/plain": [
       "11.518866777420044"
      ]
     },
     "execution_count": 5,
     "metadata": {},
     "output_type": "execute_result"
    }
   ],
   "source": [
    "word_list = ['맥북', '그램', '뉴진스', '미ㅏㅇ러미낭']\n",
    "\n",
    "fm_crawling(driver, word_list)\n"
   ]
  },
  {
   "attachments": {},
   "cell_type": "markdown",
   "metadata": {},
   "source": [
    "### 뽐뿌\n"
   ]
  },
  {
   "cell_type": "code",
   "execution_count": 8,
   "metadata": {},
   "outputs": [],
   "source": [
    "def pp_crawling(driver:webdriver, word_list : list):\n",
    "    '''\n",
    "    뽐뿌 사이트에서 크롤링하는 함수. \n",
    "    검색어 단어들이 리스트로 들어오면 for문으로 각 단어 결과를 파싱한 후 title, url, date, comment_cnt를 반환\n",
    "    \n",
    "    - input \n",
    "        word_list(list) : 연관어 리스트\n",
    "        driver(webdriver) : selenium.webdriver.chrome.webdriver\n",
    "    - output  \n",
    "        title(str) : 제목\n",
    "        url(str) : 해당 url\n",
    "        date(str) : 작성일(yyyy-mm-dd 형식)\n",
    "        comment_cnt(int) : 댓글수\n",
    "    '''\n",
    "    start = time.time()\n",
    "    for word in word_list:\n",
    "        url = f'https://www.ppomppu.co.kr/search_bbs.php?bbs_cate=2&keyword={word}'\n",
    "        driver.get(url)\n",
    "        time.sleep(1)\n",
    "\n",
    "        soup = BeautifulSoup(driver.page_source, 'html.parser')\n",
    "        search_in_commu = soup.find_all('div', class_=\"content\")\n",
    "        for search in search_in_commu: \n",
    "            comment_cnt = int(search.find('font', class_ = 'comment-cnt').get_text())\n",
    "            search.find('a').font.decompose()\n",
    "            title = search.find('a').get_text()\n",
    "            url = f\"https://www.ppomppu.co.kr{search.find('a')['href']}\"\n",
    "            date = search.find('p', class_ = 'desc').select_one('span:nth-child(3)').string.split('.')\n",
    "            date = '-'.join(date) # yyyy-mm-dd 형식 맞춰줌\n",
    "            print(title, url, date, comment_cnt)\n",
    "    times = time.time() - start\n",
    "    return times"
   ]
  },
  {
   "cell_type": "code",
   "execution_count": 10,
   "metadata": {},
   "outputs": [
    {
     "name": "stdout",
     "output_type": "stream",
     "text": [
      "맥북 샀는데 ssd연결하려면 전용케이블 or 허브가 꼭 있어야할까요? https://www.ppomppu.co.kr/zboard/view.php?id=computer&no=671614&keyword=%B8%C6%BA%CF 2023-03-02 0\n",
      "대학교 입학 시 노트북 필수인가요. https://www.ppomppu.co.kr/zboard/view.php?id=freeboard&no=8239573&keyword=%B8%C6%BA%CF 2023-03-02 18\n",
      "이젠 아이패드가 싸게 느껴지네요 https://www.ppomppu.co.kr/zboard/view.php?id=tablet&no=147651&keyword=%B8%C6%BA%CF 2023-03-01 15\n",
      "Tookci-67W GaN USB C 고속 충전기 ($15.86/무료) https://www.ppomppu.co.kr/zboard/view.php?id=ppomppu8&no=12726&keyword=%B8%C6%BA%CF 2023-02-28 10\n",
      "애플, MFI 적용된 USB-C 케이블 폭스콘 양산 시작 https://www.ppomppu.co.kr/zboard/view.php?id=phone&no=3750271&keyword=%B8%C6%BA%CF 2023-02-28 47\n",
      "다이소 맥세이프 호환용 팝핑거 https://www.ppomppu.co.kr/zboard/view.php?id=receive&no=65037&keyword=%B8%C6%BA%CF 2023-02-28 0\n",
      "쿠팡 카드할인이 이상해요 ㅡ.ㅡ;; https://www.ppomppu.co.kr/zboard/view.php?id=freeboard&no=8237544&keyword=%B8%C6%BA%CF 2023-02-28 3\n",
      "맥북에어 M2 vs 아이패드프로 M1+키보드 https://www.ppomppu.co.kr/zboard/view.php?id=freeboard&no=8237460&keyword=%B8%C6%BA%CF 2023-02-28 11\n",
      "여행필수품! 75W 접지형 고속멀티충전기 클레버타키온 G21CA https://www.ppomppu.co.kr/zboard/view.php?id=review2&no=65035&keyword=%B8%C6%BA%CF 2023-02-28 0\n",
      "5시반 타임세일 프로그래밍 가능한 맞춤형 매크로 키보드, 매크로패드($28.66/무료) MC LS928 노트북 스탠드 360 회전 가능($19.92/무료) 유그린-USB 블루투스 5.3 5.0 동글 어댑터($5.34/무료) 유그린블루투스마우스($10.0/무료) https://www.ppomppu.co.kr/zboard/view.php?id=ppomppu8&no=12708&keyword=%B8%C6%BA%CF 2023-02-27 8\n",
      "맥북 보안은 아이폰이랑 동급인가요?? https://www.ppomppu.co.kr/zboard/view.php?id=computer&no=671432&keyword=%B8%C6%BA%CF 2023-02-27 1\n",
      "C타입 노트북 모니터 케이블 아트뮤 Type-C to HDMI 미러링 케이블 (2m) 사용기 https://www.ppomppu.co.kr/zboard/view.php?id=review2&no=65027&keyword=%B8%C6%BA%CF 2023-02-26 1\n",
      "주식용 컴퓨터 고민 https://www.ppomppu.co.kr/zboard/view.php?id=freeboard&no=8234416&keyword=%B8%C6%BA%CF 2023-02-25 4\n",
      "\"애플, 배터리 교체 소비자 '똥개훈련' 그만\" 시민단체 분노 https://www.ppomppu.co.kr/zboard/view.php?id=iphone&no=466763&keyword=%B8%C6%BA%CF 2023-02-24 9\n",
      "Toocki GaN 충전기 65W PD 고속 USB 충전기 ($13.91/무료) https://www.ppomppu.co.kr/zboard/view.php?id=ppomppu8&no=12680&keyword=%B8%C6%BA%CF 2023-02-24 22\n",
      "아이폰 카메라의 낮은 퀄리티를 점점 더 많은 사람들이 알아가네요! https://www.ppomppu.co.kr/zboard/view.php?id=phone&no=3749746&keyword=%B8%C6%BA%CF 2023-02-24 17\n",
      "맥북으로 넘어가냐 마냐 그것이 https://www.ppomppu.co.kr/zboard/view.php?id=freeboard&no=8232337&keyword=%B8%C6%BA%CF 2023-02-23 7\n",
      "39인치 커브드 모니터 vs 27 커브드 듀얼모니터 도와주세요 https://www.ppomppu.co.kr/zboard/view.php?id=freeboard&no=8232310&keyword=%B8%C6%BA%CF 2023-02-23 3\n",
      "맥북하고 다른기기 연결할 때 배터리 빨리는 거 멈출수 없나요 https://www.ppomppu.co.kr/zboard/view.php?id=computer&no=671223&keyword=%B8%C6%BA%CF 2023-02-23 8\n",
      "원격을 접속하는 노트북사양에 관하여..질문드립니다. 잘아시는분있을까요. https://www.ppomppu.co.kr/zboard/view.php?id=computer&no=671214&keyword=%B8%C6%BA%CF 2023-02-22 0\n",
      "윈도우 7 설치 좀 도와주세요 https://www.ppomppu.co.kr/zboard/view.php?id=computer&no=671616&keyword=%B1%D7%B7%A5 2023-03-02 3\n",
      "[한진] 물류왕 아일랜드에 찾아온 Valentine's Day https://www.ppomppu.co.kr/zboard/view.php?id=event2&no=84738&keyword=%B1%D7%B7%A5 2023-03-02 0\n",
      "쥬비스 두달 해봤습니다. 궁금한거 있으실까요?? https://www.ppomppu.co.kr/zboard/view.php?id=freeboard&no=8239962&keyword=%B1%D7%B7%A5 2023-03-02 10\n",
      "온라인 운전면허 적성검사 갱신 중인데 https://www.ppomppu.co.kr/zboard/view.php?id=freeboard&no=8239941&keyword=%B1%D7%B7%A5 2023-03-02 3\n",
      "[아주초대석]허세영 루센트블록 대표 \"실물 있는 부동산 조각투자, 임차인 재산 증식·도시 발전에 기여\" https://www.ppomppu.co.kr/zboard/view.php?id=bitcoin&no=172666&keyword=%B1%D7%B7%A5 2023-03-02 0\n",
      "홈플러스에서 오배송한건가요? https://www.ppomppu.co.kr/zboard/view.php?id=freeboard&no=8239872&keyword=%B1%D7%B7%A5 2023-03-02 10\n",
      "현재 일본인들이 경험하는 한류문화 https://www.ppomppu.co.kr/zboard/view.php?id=freeboard&no=8239799&keyword=%B1%D7%B7%A5 2023-03-02 13\n",
      "탄산수 도저히 못 먹겠네요 https://www.ppomppu.co.kr/zboard/view.php?id=freeboard&no=8239716&keyword=%B1%D7%B7%A5 2023-03-02 13\n",
      "먹방·스키 SNS 올린 조민…\"아이폰14로 찍었어요\" https://www.ppomppu.co.kr/zboard/view.php?id=iphone&no=466836&keyword=%B1%D7%B7%A5 2023-03-02 1\n",
      "할리우드 성역급..최강인맥 레전드 https://www.ppomppu.co.kr/zboard/view.php?id=freeboard&no=8239687&keyword=%B1%D7%B7%A5 2023-03-02 29\n",
      "나는 솔로 이 프로그램 출연자들 직업 보면 우리나라 결혼 인식을 알 수가 있습니다. https://www.ppomppu.co.kr/zboard/view.php?id=freeboard&no=8239677&keyword=%B1%D7%B7%A5 2023-03-02 10\n",
      "피지컬100 출연 국가대표, 여친 흉기폭행 혐의 구속 https://www.ppomppu.co.kr/zboard/view.php?id=freeboard&no=8239620&keyword=%B1%D7%B7%A5 2023-03-02 10\n",
      "대학교 입학 시 노트북 필수인가요. https://www.ppomppu.co.kr/zboard/view.php?id=freeboard&no=8239573&keyword=%B1%D7%B7%A5 2023-03-02 18\n",
      "<뭉뜬리턴즈> CP가 프로그램 취지 설득에 실패한 출연자 https://www.ppomppu.co.kr/zboard/view.php?id=freeboard&no=8239544&keyword=%B1%D7%B7%A5 2023-03-02 6\n",
      "인공지능 그림그리기, AI 그림그리는 유료버전 추천할만한거 있을까요? https://www.ppomppu.co.kr/zboard/view.php?id=help&no=1357985&keyword=%B1%D7%B7%A5 2023-03-02 0\n",
      "80Plus 실버등급으로 찐 가성비 컴퓨터파워 추가! - 마이크로닉스 WIZMAX SILVER 파워서플라이 https://www.ppomppu.co.kr/zboard/view.php?id=review2&no=65040&keyword=%B1%D7%B7%A5 2023-03-02 0\n",
      "[우체국쇼핑] 고흥축협 국내산 냉장 삼겹살 500g (7,120/무료) https://www.ppomppu.co.kr/zboard/view.php?id=ppomppu&no=454565&keyword=%B1%D7%B7%A5 2023-03-02 11\n",
      "벌거벗은 세계사라는 티비프로그램보니까 미국도 나쁜놈이던데요 https://www.ppomppu.co.kr/zboard/view.php?id=freeboard&no=8239266&keyword=%B1%D7%B7%A5 2023-03-02 35\n",
      "(끌올)[네이버페이] 즉시 적립 및 팔로우 & 구독류 모음 https://www.ppomppu.co.kr/zboard/view.php?id=coupon&no=82034&keyword=%B1%D7%B7%A5 2023-03-01 14\n",
      "의외로 랩을 잘하는 배우 https://www.ppomppu.co.kr/zboard/view.php?id=youtube_info&no=1761&keyword=%B1%D7%B7%A5 2023-03-01 0\n",
      "미쳤다는 나이키 x 뉴진스. jpg https://www.ppomppu.co.kr/zboard/view.php?id=freeboard&no=8240038&keyword=%B4%BA%C1%F8%BD%BA 2023-03-02 3\n",
      "[맥도날드x뉴진스] 색다른 차원의 빠삭함, 맥크리스피 https://www.ppomppu.co.kr/zboard/view.php?id=youtube_info&no=1768&keyword=%B4%BA%C1%F8%BD%BA 2023-03-02 0\n",
      "뉴진스 https://www.ppomppu.co.kr/zboard/view.php?id=star&no=208531&keyword=%B4%BA%C1%F8%BD%BA 2023-03-02 0\n",
      "뉴진스 OMG 씹덕 풀버전 https://www.ppomppu.co.kr/zboard/view.php?id=freeboard&no=8239672&keyword=%B4%BA%C1%F8%BD%BA 2023-03-02 10\n",
      "뉴진스 맥도날드 콜라보 https://www.ppomppu.co.kr/zboard/view.php?id=freeboard&no=8239622&keyword=%B4%BA%C1%F8%BD%BA 2023-03-02 10\n",
      "2월 인기 뉴진스 1위 임영웅 2위 https://www.ppomppu.co.kr/zboard/view.php?id=freeboard&no=8237678&keyword=%B4%BA%C1%F8%BD%BA 2023-02-28 1\n",
      "뉴진스 출근룩 티져 https://www.ppomppu.co.kr/zboard/view.php?id=humor&no=552643&keyword=%B4%BA%C1%F8%BD%BA 2023-02-28 2\n",
      "오늘 베스트글 근황 (2023-02-27 월요일) https://www.ppomppu.co.kr/zboard/view.php?id=humor&no=552539&keyword=%B4%BA%C1%F8%BD%BA 2023-02-27 0\n",
      "뉴진스 애들 보면 약간 이효리 데뷔 초 같지않나요? https://www.ppomppu.co.kr/zboard/view.php?id=freeboard&no=8236407&keyword=%B4%BA%C1%F8%BD%BA 2023-02-27 7\n",
      "\"뉴진스 민지\" 여중딩, 여고딩 졸업사진ㄷㄷ https://www.ppomppu.co.kr/zboard/view.php?id=humor&no=552500&keyword=%B4%BA%C1%F8%BD%BA 2023-02-27 37\n",
      "걸그룹 보이그룹은 대한민국이최고인가요? https://www.ppomppu.co.kr/zboard/view.php?id=freeboard&no=8236194&keyword=%B4%BA%C1%F8%BD%BA 2023-02-27 9\n",
      "뉴진스 언플로 뜬거라는분이 많네요 https://www.ppomppu.co.kr/zboard/view.php?id=freeboard&no=8236142&keyword=%B4%BA%C1%F8%BD%BA 2023-02-27 14\n",
      "맥도날드 근황 .jpg https://www.ppomppu.co.kr/zboard/view.php?id=freeboard&no=8236019&keyword=%B4%BA%C1%F8%BD%BA 2023-02-27 58\n",
      "오늘 베스트글 근황 (2023-02-26 일요일) https://www.ppomppu.co.kr/zboard/view.php?id=humor&no=552409&keyword=%B4%BA%C1%F8%BD%BA 2023-02-26 0\n",
      "슬금슬금 오르는 음원.jpg https://www.ppomppu.co.kr/zboard/view.php?id=freeboard&no=8235465&keyword=%B4%BA%C1%F8%BD%BA 2023-02-26 3\n",
      "인기가요 1위후보 ( 스테이씨 vs 뉴진스 vs 뉴진스) https://www.ppomppu.co.kr/zboard/view.php?id=freeboard&no=8235386&keyword=%B4%BA%C1%F8%BD%BA 2023-02-26 8\n",
      "뉴진스 하니 근황.jpg https://www.ppomppu.co.kr/zboard/view.php?id=freeboard&no=8235282&keyword=%B4%BA%C1%F8%BD%BA 2023-02-26 65\n",
      "S.E.S. 유진 혼자추는 뉴진스 Hype Boy.mp4 https://www.ppomppu.co.kr/zboard/view.php?id=freeboard&no=8235124&keyword=%B4%BA%C1%F8%BD%BA 2023-02-26 15\n",
      "맥도날드 새 광고모델 https://www.ppomppu.co.kr/zboard/view.php?id=freeboard&no=8234696&keyword=%B4%BA%C1%F8%BD%BA 2023-02-25 8\n",
      "오늘 베스트글 근황 (2023-02-25 토요일) https://www.ppomppu.co.kr/zboard/view.php?id=humor&no=552332&keyword=%B4%BA%C1%F8%BD%BA 2023-02-25 0\n"
     ]
    },
    {
     "data": {
      "text/plain": [
       "13.456708669662476"
      ]
     },
     "execution_count": 10,
     "metadata": {},
     "output_type": "execute_result"
    }
   ],
   "source": [
    "# test\n",
    "pp_crawling(driver, word_list)"
   ]
  },
  {
   "attachments": {},
   "cell_type": "markdown",
   "metadata": {},
   "source": [
    "### 웃대\n",
    "---\n",
    "\n",
    "- 검색 사이트 바로 검색 안됨\n",
    "- 검색어 [] 웃긴대학 내부 검색은 특수문자를 제외한 검색어가 한글 2자/영문 4자 이상이어야 검색 가능합니다.\n",
    "- 해당 내용이 많으면 로딩 페이지 넘어감\n"
   ]
  },
  {
   "cell_type": "code",
   "execution_count": 11,
   "metadata": {},
   "outputs": [],
   "source": [
    "def hu_crawling(driver:webdriver, search_word: str, related_word: str):\n",
    "    '''\n",
    "    humoruniv 사이트에서 크롤링하는 함수. \n",
    "    검색어 단어들이 리스트로 들어오면 for문으로 각 단어 결과를 파싱한 후 title, url, date, comment_cnt를 반환\n",
    "    * search link에서 검색 안됨 -> main site에서 검색어 입력\n",
    "    * 특수문자를 제외한 검색어가 한글 2자/영문 4자 이상이어야 검색 가능\n",
    "    \n",
    "    - input \n",
    "        word_list(list) : 연관어 리스트\n",
    "        driver(webdriver) : selenium.webdriver.chrome.webdriver\n",
    "    - output  \n",
    "        title(str) : 제목\n",
    "        url(str) : 해당 url\n",
    "        date(str) : 작성일(yyyy-mm-dd 형식)\n",
    "        comment_cnt(int) : 댓글수\n",
    "    '''\n",
    "    \n",
    "    start = time.time()\n",
    "    for word in word_list:\n",
    "        url = \"http://web.humoruniv.com/main.html\" \n",
    "        driver.get(url)\n",
    "        time.sleep(1)\n",
    "        # 특수문자를 제외한 검색어가 한글 2자/영문 4자 이상이어야 검색 가능\n",
    "        # 이부분 추가해야함\n",
    "\n",
    "        x_path_search = '//*[@id=\"search_text\"]'\n",
    "        searchbox = driver.find_element(By.XPATH, x_path_search)\n",
    "        searchbox.click()\n",
    "        element = driver.find_element(By.NAME, \"search_text\")\n",
    "        element.send_keys(f'{search_word} {related_word}')\n",
    "        element.submit()\n",
    "\n",
    "        soup = BeautifulSoup(driver.page_source, 'html.parser')\n",
    "        search_in_commu = soup.find_all('td', style =\"word-break: break-all;\")\n",
    "        for search in search_in_commu: \n",
    "            title = search.find('a').get_text()\n",
    "            url = search.find('a')['href']\n",
    "            date = search.find('font').get_text().split(' ')[0]\n",
    "            comment_cnt = search.find('font', color = 'green').get_text().split(' ')[1]\n",
    "            print(title, url, date, comment_cnt)\n",
    "    times = time.time() - start\n",
    "    return times"
   ]
  },
  {
   "cell_type": "code",
   "execution_count": 13,
   "metadata": {},
   "outputs": [
    {
     "name": "stdout",
     "output_type": "stream",
     "text": [
      "아 맥북 사면 되는데 http://web.humoruniv.com/board/humor/read.html?table=sns&number=696502 2023-03-01 6\n",
      "나 앱등이 아님 http://web.humoruniv.com/board/humor/read.html?table=pdswait&number=10189733 2023-03-01 10\n",
      "아이맥...을 살까... 맥미니를... http://web.humoruniv.com/board/humor/read.html?table=pdswait&number=10185712 2023-02-27 6\n",
      "맥북 쓰는데 http://web.humoruniv.com/board/humor/read.html?table=pdswait&number=10179032 2023-02-23 5\n",
      "서치2보고옴 http://web.humoruniv.com/board/humor/read.html?table=workshop&number=103383 2023-02-23 4\n",
      "맥북 10년만에 바꾼거 신나서 http://web.humoruniv.com/board/humor/read.html?table=pdswait&number=10177854 2023-02-23 2\n",
      "오랜만에 http://web.humoruniv.com/board/humor/read.html?table=solo&number=553483 2023-02-22 6\n",
      "뭔가 맥북 어플 추천 좀 해줄 수 있어? http://web.humoruniv.com/board/humor/read.html?table=pdswait&number=10172600 2023-02-20 14\n",
      "맥북파셈 http://web.humoruniv.com/board/humor/read.html?table=free&number=4263007 2023-02-16 1\n",
      "아이패드프로사나 맥북사나 http://web.humoruniv.com/board/humor/read.html?table=free&number=4263005 2023-02-16 4\n",
      "교복 인스타그램 http://web.humoruniv.com/board/humor/read.html?table=pdswait&number=10191280 2023-03-01 5\n",
      "선착순 11명 개념 2그램 http://web.humoruniv.com/board/humor/read.html?table=pdswait&number=10190591 2023-03-01 16\n",
      "글, 댓글 삭제하는거 예전에 프로그램 있지 않았나?? http://web.humoruniv.com/board/humor/read.html?table=pdswait&number=10189361 2023-02-28 2\n",
      "그 프로그램 멈추면 들어가는 그거 버튼이 뭐지?? http://web.humoruniv.com/board/humor/read.html?table=pdswait&number=10184193 2023-02-26 9\n",
      "딘 인스타그램에 대한 한 사람의 평가 http://web.humoruniv.com/board/humor/read.html?table=pdswait&number=10182134 2023-02-25 3\n",
      "와 개발암프로그램 또찾음 http://web.humoruniv.com/board/humor/read.html?table=free&number=4264955 2023-02-25 0\n",
      "김태호pd 부루마블 프로그램 쎄하다 http://web.humoruniv.com/board/humor/read.html?table=pdswait&number=10180036 2023-02-24 5\n",
      "전설의 국산 컴퓨터 프로그램.jpg http://web.humoruniv.com/board/humor/read.html?table=pds&number=1215955 2023-02-22 39\n",
      "망가졌는데 고칠의지가 없는 노트북 어따가팔지 http://web.humoruniv.com/board/humor/read.html?table=pride&number=603743 2023-02-21 8\n",
      "인스타그램에서, 우리 학교 학생들이 졸업한 걸 우연히 봤어요. http://web.humoruniv.com/board/humor/read.html?table=workshop&number=103154 2023-02-20 4\n",
      "학폭 유튜버 와 뉴진스의 콜라보 http://web.humoruniv.com/board/humor/read.html?table=pdswait&number=10192550 2023-03-02 2\n",
      "뉴진스 × 맥도날드 http://web.humoruniv.com/board/humor/read.html?table=pdswait&number=10192496 2023-03-02 0\n",
      "뉴진스 첫 출근룩.jpg http://web.humoruniv.com/board/humor/read.html?table=pdswait&number=10192285 2023-03-02 5\n",
      "뉴진스의 하입보이요 http://web.humoruniv.com/board/humor/read.html?table=sns&number=696484 2023-03-01 2\n",
      "혹시 지금 유튜브 자막 안 나오는 사람 있음? http://web.humoruniv.com/board/humor/read.html?table=pdswait&number=10190486 2023-03-01 0\n",
      "뉴진스 OMG 6주 연속 빌보드 핫100 http://web.humoruniv.com/board/humor/read.html?table=pdswait&number=10189929 2023-03-01 0\n",
      "저 죄송한데 사직구장 어떻게 가.. http://web.humoruniv.com/board/humor/read.html?table=pride&number=605020 2023-02-28 1\n",
      "뉴진스 하입보이 추는 SES 유진 http://web.humoruniv.com/board/humor/read.html?table=pds&number=1217331 2023-02-28 55\n",
      "뉴진스×맥도날드 이거 진짜임? http://web.humoruniv.com/board/humor/read.html?table=pdswait&number=10185280 2023-02-27 5\n",
      "진짜 만들어진 샘숭 노태북 에디션ㅋㅋㅋㅋㅋㅋㅋㅋ http://web.humoruniv.com/board/humor/read.html?table=pdswait&number=10184715 2023-02-26 2\n"
     ]
    },
    {
     "ename": "UnexpectedAlertPresentException",
     "evalue": "Alert Text: 검색어 [미] 웃긴대학 내부 검색은 특수문자를 제외한 검색어가 한글 2자/영문 4자 이상이어야 검색 가능합니다.\nMessage: unexpected alert open: {Alert text : 검색어 [미] 웃긴대학 내부 검색은 특수문자를 제외한 검색어가 한글 2자/영문 4자 이상이어야 검색 가능합니다.}\n  (Session info: headless chrome=110.0.5481.105)\nStacktrace:\nBacktrace:\n\t(No symbol) [0x007337D3]\n\t(No symbol) [0x006C8B81]\n\t(No symbol) [0x005CB36D]\n\t(No symbol) [0x006318E5]\n\t(No symbol) [0x0061B216]\n\t(No symbol) [0x005F0D97]\n\t(No symbol) [0x005F253D]\n\tGetHandleVerifier [0x009AABF2+2510930]\n\tGetHandleVerifier [0x009D8EC1+2700065]\n\tGetHandleVerifier [0x009DC86C+2714828]\n\tGetHandleVerifier [0x007E3480+645344]\n\t(No symbol) [0x006D0FD2]\n\t(No symbol) [0x006D6C68]\n\t(No symbol) [0x006D6D4B]\n\t(No symbol) [0x006E0D6B]\n\tBaseThreadInitThunk [0x766E7D69+25]\n\tRtlInitializeExceptionChain [0x77AEBB9B+107]\n\tRtlClearBits [0x77AEBB1F+191]\n",
     "output_type": "error",
     "traceback": [
      "\u001b[1;31m---------------------------------------------------------------------------\u001b[0m",
      "\u001b[1;31mUnexpectedAlertPresentException\u001b[0m           Traceback (most recent call last)",
      "Cell \u001b[1;32mIn [13], line 2\u001b[0m\n\u001b[0;32m      1\u001b[0m \u001b[39m# test\u001b[39;00m\n\u001b[1;32m----> 2\u001b[0m hu_crawling(driver, word_list)\n",
      "Cell \u001b[1;32mIn [11], line 33\u001b[0m, in \u001b[0;36mhu_crawling\u001b[1;34m(driver, word_list)\u001b[0m\n\u001b[0;32m     30\u001b[0m element\u001b[39m.\u001b[39msend_keys(word)\n\u001b[0;32m     31\u001b[0m element\u001b[39m.\u001b[39msubmit()\n\u001b[1;32m---> 33\u001b[0m soup \u001b[39m=\u001b[39m BeautifulSoup(driver\u001b[39m.\u001b[39;49mpage_source, \u001b[39m'\u001b[39m\u001b[39mhtml.parser\u001b[39m\u001b[39m'\u001b[39m)\n\u001b[0;32m     34\u001b[0m search_in_commu \u001b[39m=\u001b[39m soup\u001b[39m.\u001b[39mfind_all(\u001b[39m'\u001b[39m\u001b[39mtd\u001b[39m\u001b[39m'\u001b[39m, style \u001b[39m=\u001b[39m\u001b[39m\"\u001b[39m\u001b[39mword-break: break-all;\u001b[39m\u001b[39m\"\u001b[39m)\n\u001b[0;32m     35\u001b[0m \u001b[39mfor\u001b[39;00m search \u001b[39min\u001b[39;00m search_in_commu: \n",
      "File \u001b[1;32mc:\\Users\\Chaaaaabbo\\AppData\\Local\\Programs\\Python\\Python311\\Lib\\site-packages\\selenium\\webdriver\\remote\\webdriver.py:541\u001b[0m, in \u001b[0;36mWebDriver.page_source\u001b[1;34m(self)\u001b[0m\n\u001b[0;32m    532\u001b[0m \u001b[39m@property\u001b[39m\n\u001b[0;32m    533\u001b[0m \u001b[39mdef\u001b[39;00m \u001b[39mpage_source\u001b[39m(\u001b[39mself\u001b[39m) \u001b[39m-\u001b[39m\u001b[39m>\u001b[39m \u001b[39mstr\u001b[39m:\n\u001b[0;32m    534\u001b[0m     \u001b[39m\"\"\"Gets the source of the current page.\u001b[39;00m\n\u001b[0;32m    535\u001b[0m \n\u001b[0;32m    536\u001b[0m \u001b[39m    :Usage:\u001b[39;00m\n\u001b[1;32m   (...)\u001b[0m\n\u001b[0;32m    539\u001b[0m \u001b[39m            driver.page_source\u001b[39;00m\n\u001b[0;32m    540\u001b[0m \u001b[39m    \"\"\"\u001b[39;00m\n\u001b[1;32m--> 541\u001b[0m     \u001b[39mreturn\u001b[39;00m \u001b[39mself\u001b[39;49m\u001b[39m.\u001b[39;49mexecute(Command\u001b[39m.\u001b[39;49mGET_PAGE_SOURCE)[\u001b[39m\"\u001b[39m\u001b[39mvalue\u001b[39m\u001b[39m\"\u001b[39m]\n",
      "File \u001b[1;32mc:\\Users\\Chaaaaabbo\\AppData\\Local\\Programs\\Python\\Python311\\Lib\\site-packages\\selenium\\webdriver\\remote\\webdriver.py:440\u001b[0m, in \u001b[0;36mWebDriver.execute\u001b[1;34m(self, driver_command, params)\u001b[0m\n\u001b[0;32m    438\u001b[0m response \u001b[39m=\u001b[39m \u001b[39mself\u001b[39m\u001b[39m.\u001b[39mcommand_executor\u001b[39m.\u001b[39mexecute(driver_command, params)\n\u001b[0;32m    439\u001b[0m \u001b[39mif\u001b[39;00m response:\n\u001b[1;32m--> 440\u001b[0m     \u001b[39mself\u001b[39;49m\u001b[39m.\u001b[39;49merror_handler\u001b[39m.\u001b[39;49mcheck_response(response)\n\u001b[0;32m    441\u001b[0m     response[\u001b[39m\"\u001b[39m\u001b[39mvalue\u001b[39m\u001b[39m\"\u001b[39m] \u001b[39m=\u001b[39m \u001b[39mself\u001b[39m\u001b[39m.\u001b[39m_unwrap_value(response\u001b[39m.\u001b[39mget(\u001b[39m\"\u001b[39m\u001b[39mvalue\u001b[39m\u001b[39m\"\u001b[39m, \u001b[39mNone\u001b[39;00m))\n\u001b[0;32m    442\u001b[0m     \u001b[39mreturn\u001b[39;00m response\n",
      "File \u001b[1;32mc:\\Users\\Chaaaaabbo\\AppData\\Local\\Programs\\Python\\Python311\\Lib\\site-packages\\selenium\\webdriver\\remote\\errorhandler.py:244\u001b[0m, in \u001b[0;36mErrorHandler.check_response\u001b[1;34m(self, response)\u001b[0m\n\u001b[0;32m    242\u001b[0m     \u001b[39melif\u001b[39;00m \u001b[39m\"\u001b[39m\u001b[39malert\u001b[39m\u001b[39m\"\u001b[39m \u001b[39min\u001b[39;00m value:\n\u001b[0;32m    243\u001b[0m         alert_text \u001b[39m=\u001b[39m value[\u001b[39m\"\u001b[39m\u001b[39malert\u001b[39m\u001b[39m\"\u001b[39m]\u001b[39m.\u001b[39mget(\u001b[39m\"\u001b[39m\u001b[39mtext\u001b[39m\u001b[39m\"\u001b[39m)\n\u001b[1;32m--> 244\u001b[0m     \u001b[39mraise\u001b[39;00m exception_class(message, screen, stacktrace, alert_text)  \u001b[39m# type: ignore[call-arg]  # mypy is not smart enough here\u001b[39;00m\n\u001b[0;32m    245\u001b[0m \u001b[39mraise\u001b[39;00m exception_class(message, screen, stacktrace)\n",
      "\u001b[1;31mUnexpectedAlertPresentException\u001b[0m: Alert Text: 검색어 [미] 웃긴대학 내부 검색은 특수문자를 제외한 검색어가 한글 2자/영문 4자 이상이어야 검색 가능합니다.\nMessage: unexpected alert open: {Alert text : 검색어 [미] 웃긴대학 내부 검색은 특수문자를 제외한 검색어가 한글 2자/영문 4자 이상이어야 검색 가능합니다.}\n  (Session info: headless chrome=110.0.5481.105)\nStacktrace:\nBacktrace:\n\t(No symbol) [0x007337D3]\n\t(No symbol) [0x006C8B81]\n\t(No symbol) [0x005CB36D]\n\t(No symbol) [0x006318E5]\n\t(No symbol) [0x0061B216]\n\t(No symbol) [0x005F0D97]\n\t(No symbol) [0x005F253D]\n\tGetHandleVerifier [0x009AABF2+2510930]\n\tGetHandleVerifier [0x009D8EC1+2700065]\n\tGetHandleVerifier [0x009DC86C+2714828]\n\tGetHandleVerifier [0x007E3480+645344]\n\t(No symbol) [0x006D0FD2]\n\t(No symbol) [0x006D6C68]\n\t(No symbol) [0x006D6D4B]\n\t(No symbol) [0x006E0D6B]\n\tBaseThreadInitThunk [0x766E7D69+25]\n\tRtlInitializeExceptionChain [0x77AEBB9B+107]\n\tRtlClearBits [0x77AEBB1F+191]\n"
     ]
    }
   ],
   "source": [
    "# test\n",
    "hu_crawling(driver, word_list)"
   ]
  },
  {
   "cell_type": "code",
   "execution_count": 35,
   "metadata": {},
   "outputs": [],
   "source": [
    "# 한/영/숫자/공백 아닌 문자 입력 확인\n",
    "def check_word(word):\n",
    "    if re.match(\"^[가-힣a-zA-Z0-9 ]+$\", word):\n",
    "        change_word = re.sub('_', ' ', word)\n",
    "        return change_word\n",
    "    else:\n",
    "        return False"
   ]
  },
  {
   "cell_type": "code",
   "execution_count": 39,
   "metadata": {},
   "outputs": [
    {
     "name": "stdout",
     "output_type": "stream",
     "text": [
      "아 맥북 사면 되는데 http://web.humoruniv.com/board/humor/read.html?table=sns&number=696502 2023-03-01 6\n",
      "나 앱등이 아님 http://web.humoruniv.com/board/humor/read.html?table=pdswait&number=10189733 2023-03-01 10\n",
      "아이맥...을 살까... 맥미니를... http://web.humoruniv.com/board/humor/read.html?table=pdswait&number=10185712 2023-02-27 6\n",
      "맥북 쓰는데 http://web.humoruniv.com/board/humor/read.html?table=pdswait&number=10179032 2023-02-23 5\n",
      "서치2보고옴 http://web.humoruniv.com/board/humor/read.html?table=workshop&number=103383 2023-02-23 4\n",
      "맥북 10년만에 바꾼거 신나서 http://web.humoruniv.com/board/humor/read.html?table=pdswait&number=10177854 2023-02-23 2\n",
      "오랜만에 http://web.humoruniv.com/board/humor/read.html?table=solo&number=553483 2023-02-22 6\n",
      "뭔가 맥북 어플 추천 좀 해줄 수 있어? http://web.humoruniv.com/board/humor/read.html?table=pdswait&number=10172600 2023-02-20 14\n",
      "맥북파셈 http://web.humoruniv.com/board/humor/read.html?table=free&number=4263007 2023-02-16 1\n",
      "아이패드프로사나 맥북사나 http://web.humoruniv.com/board/humor/read.html?table=free&number=4263005 2023-02-16 4\n",
      "교복 인스타그램 http://web.humoruniv.com/board/humor/read.html?table=pdswait&number=10191280 2023-03-01 5\n",
      "선착순 11명 개념 2그램 http://web.humoruniv.com/board/humor/read.html?table=pdswait&number=10190591 2023-03-01 16\n",
      "글, 댓글 삭제하는거 예전에 프로그램 있지 않았나?? http://web.humoruniv.com/board/humor/read.html?table=pdswait&number=10189361 2023-02-28 2\n",
      "그 프로그램 멈추면 들어가는 그거 버튼이 뭐지?? http://web.humoruniv.com/board/humor/read.html?table=pdswait&number=10184193 2023-02-26 9\n",
      "딘 인스타그램에 대한 한 사람의 평가 http://web.humoruniv.com/board/humor/read.html?table=pdswait&number=10182134 2023-02-25 3\n",
      "와 개발암프로그램 또찾음 http://web.humoruniv.com/board/humor/read.html?table=free&number=4264955 2023-02-25 0\n",
      "김태호pd 부루마블 프로그램 쎄하다 http://web.humoruniv.com/board/humor/read.html?table=pdswait&number=10180036 2023-02-24 5\n",
      "전설의 국산 컴퓨터 프로그램.jpg http://web.humoruniv.com/board/humor/read.html?table=pds&number=1215955 2023-02-22 39\n",
      "망가졌는데 고칠의지가 없는 노트북 어따가팔지 http://web.humoruniv.com/board/humor/read.html?table=pride&number=603743 2023-02-21 8\n",
      "인스타그램에서, 우리 학교 학생들이 졸업한 걸 우연히 봤어요. http://web.humoruniv.com/board/humor/read.html?table=workshop&number=103154 2023-02-20 4\n",
      "학폭 유튜버 와 뉴진스의 콜라보 http://web.humoruniv.com/board/humor/read.html?table=pdswait&number=10192550 2023-03-02 2\n",
      "뉴진스 × 맥도날드 http://web.humoruniv.com/board/humor/read.html?table=pdswait&number=10192496 2023-03-02 0\n",
      "뉴진스 첫 출근룩.jpg http://web.humoruniv.com/board/humor/read.html?table=pdswait&number=10192285 2023-03-02 5\n",
      "뉴진스의 하입보이요 http://web.humoruniv.com/board/humor/read.html?table=sns&number=696484 2023-03-01 2\n",
      "혹시 지금 유튜브 자막 안 나오는 사람 있음? http://web.humoruniv.com/board/humor/read.html?table=pdswait&number=10190486 2023-03-01 0\n",
      "뉴진스 OMG 6주 연속 빌보드 핫100 http://web.humoruniv.com/board/humor/read.html?table=pdswait&number=10189929 2023-03-01 0\n",
      "저 죄송한데 사직구장 어떻게 가.. http://web.humoruniv.com/board/humor/read.html?table=pride&number=605020 2023-02-28 1\n",
      "뉴진스 하입보이 추는 SES 유진 http://web.humoruniv.com/board/humor/read.html?table=pds&number=1217331 2023-02-28 55\n",
      "뉴진스×맥도날드 이거 진짜임? http://web.humoruniv.com/board/humor/read.html?table=pdswait&number=10185280 2023-02-27 5\n",
      "진짜 만들어진 샘숭 노태북 에디션ㅋㅋㅋㅋㅋㅋㅋㅋ http://web.humoruniv.com/board/humor/read.html?table=pdswait&number=10184715 2023-02-26 2\n"
     ]
    },
    {
     "data": {
      "text/plain": [
       "5.111664533615112"
      ]
     },
     "execution_count": 39,
     "metadata": {},
     "output_type": "execute_result"
    }
   ],
   "source": [
    "# test2\n",
    "word_list = ['맥북', '그램', '뉴진스', '미ㅏㅇ러미낭']\n",
    "for word in word_list:\n",
    "    if check_word(word) is False:\n",
    "        word_list.remove(word)\n",
    "\n",
    "hu_crawling(driver, word_list)"
   ]
  },
  {
   "attachments": {},
   "cell_type": "markdown",
   "metadata": {},
   "source": [
    "### 엠팍\n"
   ]
  },
  {
   "cell_type": "code",
   "execution_count": 40,
   "metadata": {},
   "outputs": [],
   "source": [
    "def mp_crwaling(driver:webdriver, word_list: list):\n",
    "    '''\n",
    "    mlbpark 사이트에서 크롤링하는 함수. \n",
    "    검색어 단어들이 리스트로 들어오면 for문으로 각 단어 결과를 파싱한 후 title, url, date, comment_cnt를 반환\n",
    "    \n",
    "    - input \n",
    "        word_list(list) : 연관어 리스트\n",
    "        driver(webdriver) : selenium.webdriver.chrome.webdriver\n",
    "    - output  \n",
    "        title(str) : 제목\n",
    "        url(str) : 해당 url\n",
    "        date(str) : 작성일(yyyy-mm-dd 형식)\n",
    "        comment_cnt(int) : 댓글수\n",
    "    '''\n",
    "    \n",
    "    start = time.time()\n",
    "    for word in word_list:\n",
    "        word = '뉴진스'\n",
    "        url = f'https://mlbpark.donga.com/mp/b.php?search_select=sct&search_input={word}&x=0&y=0&select=sct&m=search&b=bullpen&query={word}'\n",
    "        driver.get(url)\n",
    "        time.sleep(1)\n",
    "\n",
    "        soup = BeautifulSoup(driver.page_source, 'html.parser')\n",
    "        search_in_commu = soup.select('tr')\n",
    "        for search in search_in_commu: \n",
    "            if search.find('a') is not None:\n",
    "                title = search.find('a', class_ = 'txt').get_text()\n",
    "                url = search.find('a', class_ = 'txt')['href']\n",
    "                date = search.find('span', class_ = 'date').get_text()\n",
    "                if ':' in date: # 당일 작성 내용은 시간으로 표시되어 오늘 날짜로 넣어줌\n",
    "                    date = datetime.now().date()\n",
    "                try:\n",
    "                    comment_cnt = search.find('span', class_ = 'replycnt').get_text()\n",
    "                    comment_cnt = int(re.sub('[\\]\\[]', '', comment_cnt))\n",
    "                except AttributeError:\n",
    "                    comment_cnt = 0\n",
    "                print(title, url, date, comment_cnt)\n",
    "    end = time.time() - start\n",
    "    return end"
   ]
  },
  {
   "cell_type": "code",
   "execution_count": 41,
   "metadata": {},
   "outputs": [
    {
     "name": "stdout",
     "output_type": "stream",
     "text": [
      "뉴진스 노래중 가장 좋아하는 노래가 뭔가요? https://mlbpark.donga.com/mp/b.php?id=202303020078653748&p=1&b=bullpen&m=view&select=sct&query=%EB%89%B4%EC%A7%84%EC%8A%A4&user=&site=donga.com 2023-03-02 17\n",
      "사실상 뉴진스 본체 https://mlbpark.donga.com/mp/b.php?id=202303020078653382&p=1&b=bullpen&m=view&select=sct&query=%EB%89%B4%EC%A7%84%EC%8A%A4&user=&site=donga.com 2023-03-02 5\n",
      "뉴진스 버거광고 찍은이유 https://mlbpark.donga.com/mp/b.php?id=202303020078653286&p=1&b=bullpen&m=view&select=sct&query=%EB%89%B4%EC%A7%84%EC%8A%A4&user=&site=donga.com 2023-03-02 3\n",
      "멜론차트 1위 순위가 좀 이상한데요? https://mlbpark.donga.com/mp/b.php?id=202303020078653121&p=1&b=bullpen&m=view&select=sct&query=%EB%89%B4%EC%A7%84%EC%8A%A4&user=&site=naver.com 2023-03-02 3\n",
      "뉴진스가 전성기 투피엠 넘을수 있을까요? https://mlbpark.donga.com/mp/b.php?id=202303020078652098&p=1&b=bullpen&m=view&select=sct&query=%EB%89%B4%EC%A7%84%EC%8A%A4&user=&site=donga.com 2023-03-02 5\n",
      "제가 요즘 배우고있는 인싸춤ㅎㄷㄷㄷㄷ.gif https://mlbpark.donga.com/mp/b.php?id=202303020078651822&p=1&b=bullpen&m=view&select=sct&query=%EB%89%B4%EC%A7%84%EC%8A%A4&user=&site=donga.com 2023-03-02 3\n",
      "10대 한정 인지도 대결.jpg https://mlbpark.donga.com/mp/b.php?id=202303020078651717&p=1&b=bullpen&m=view&select=sct&query=%EB%89%B4%EC%A7%84%EC%8A%A4&user=&site=donga.com 2023-03-02 4\n",
      "뉴진스가 오렌즈 새 모델 됐네요 https://mlbpark.donga.com/mp/b.php?id=202303020078651327&p=1&b=bullpen&m=view&select=sct&query=%EB%89%B4%EC%A7%84%EC%8A%A4&user=&site=donga.com 2023-03-02 6\n",
      "[뉴진스]톱10 3곡..뉴진스 노래방차트도 휩쓸었다 https://mlbpark.donga.com/mp/b.php?id=202303020078649470&p=1&b=bullpen&m=view&select=sct&query=%EB%89%B4%EC%A7%84%EC%8A%A4&user=&site=donga.com 2023-03-02 1\n",
      "뉴진스 때문에 미치겠네요 https://mlbpark.donga.com/mp/b.php?id=202303020078648609&p=1&b=bullpen&m=view&select=sct&query=%EB%89%B4%EC%A7%84%EC%8A%A4&user=&site=donga.com 2023-03-02 16\n",
      "학부형님들, 아이브 뉴진스 멤버 얼굴 이름 매칭 되신가요? https://mlbpark.donga.com/mp/b.php?id=202303020078647859&p=1&b=bullpen&m=view&select=sct&query=%EB%89%B4%EC%A7%84%EC%8A%A4&user=&site=donga.com 2023-03-02 5\n",
      "일본노래는 씹덕노래만 있는줄알았습니다 오늘 개안하네요 https://mlbpark.donga.com/mp/b.php?id=202303020078647697&p=1&b=bullpen&m=view&select=sct&query=%EB%89%B4%EC%A7%84%EC%8A%A4&user=&site=donga.com 2023-03-02 4\n",
      "뉴진스 안무는 진짜 특이하네요. https://mlbpark.donga.com/mp/b.php?id=202303020078647217&p=1&b=bullpen&m=view&select=sct&query=%EB%89%B4%EC%A7%84%EC%8A%A4&user=&site=donga.com 2023-03-02 1\n",
      "여자 아이돌 현재 누가 제일 잘 나가나요? https://mlbpark.donga.com/mp/b.php?id=202303020078646653&p=1&b=bullpen&m=view&select=sct&query=%EB%89%B4%EC%A7%84%EC%8A%A4&user=&site=donga.com 2023-03-02 7\n",
      "뉴진스 나이키 에어맥스 광고 영상 https://mlbpark.donga.com/mp/b.php?id=202303020078646296&p=1&b=bullpen&m=view&select=sct&query=%EB%89%B4%EC%A7%84%EC%8A%A4&user=&site=donga.com 2023-03-02 1\n",
      "뉴진스 이 영상만 3천번 봤는데 정상인가요 https://mlbpark.donga.com/mp/b.php?id=202303020078645978&p=1&b=bullpen&m=view&select=sct&query=%EB%89%B4%EC%A7%84%EC%8A%A4&user=&site=donga.com 2023-03-02 4\n",
      "\"제2의 블랙핑크' 베이비몬스터 전원 공개 [종합] https://mlbpark.donga.com/mp/b.php?id=202303020078644907&p=1&b=bullpen&m=view&select=sct&query=%EB%89%B4%EC%A7%84%EC%8A%A4&user=&site=donga.com 2023-03-02 26\n",
      "요즘 초등학생들 트와이스 모르나요? https://mlbpark.donga.com/mp/b.php?id=202303020078644418&p=1&b=bullpen&m=view&select=sct&query=%EB%89%B4%EC%A7%84%EC%8A%A4&user=&site=donga.com 2023-03-02 2\n",
      "뉴진스 디토 처음 들어본 아재인데 역대급으로 좋네요 https://mlbpark.donga.com/mp/b.php?id=202303020078643995&p=1&b=bullpen&m=view&select=sct&query=%EB%89%B4%EC%A7%84%EC%8A%A4&user=&site=donga.com 2023-03-02 2\n",
      "[뉴진스] 오렌즈 렌즈 민지 하니.jpg https://mlbpark.donga.com/mp/b.php?id=202303020078643338&p=1&b=bullpen&m=view&select=sct&query=%EB%89%B4%EC%A7%84%EC%8A%A4&user=&site=donga.com 2023-03-02 5\n",
      "침착맨 방송에 뉴진스 나간거 충격이네요 https://mlbpark.donga.com/mp/b.php?id=202303020078643149&p=1&b=bullpen&m=view&select=sct&query=%EB%89%B4%EC%A7%84%EC%8A%A4&user=&site=donga.com 2023-03-02 3\n",
      "뉴진스 웬만한 광고 종류는 다찍었네요 https://mlbpark.donga.com/mp/b.php?id=202303020078642591&p=1&b=bullpen&m=view&select=sct&query=%EB%89%B4%EC%A7%84%EC%8A%A4&user=&site=donga.com 2023-03-02 6\n",
      "[뉴진스] 나이키 에어맥스.mp4 https://mlbpark.donga.com/mp/b.php?id=202303020078642462&p=1&b=bullpen&m=view&select=sct&query=%EB%89%B4%EC%A7%84%EC%8A%A4&user=&site=donga.com 2023-03-02 5\n",
      "뉴진스 해축으로 치면 누군가요? https://mlbpark.donga.com/mp/b.php?id=202303020078642309&p=1&b=bullpen&m=view&select=sct&query=%EB%89%B4%EC%A7%84%EC%8A%A4&user=&site=donga.com 2023-03-02 5\n",
      "위클리 엔믹스 뉴진스 라임라잇 한림예고 인스타 https://mlbpark.donga.com/mp/b.php?id=202303020078641952&p=1&b=bullpen&m=view&select=sct&query=%EB%89%B4%EC%A7%84%EC%8A%A4&user=&site=donga.com 2023-03-02 0\n",
      "걸그룹이 잘나가도 보통수준?의 보이그룹이 더 돈되는이유가 뭘까요 https://mlbpark.donga.com/mp/b.php?id=202303020078641601&p=1&b=bullpen&m=view&select=sct&query=%EB%89%B4%EC%A7%84%EC%8A%A4&user=&site=donga.com 2023-03-02 19\n",
      "뉴진스) 맥도날드 가시는분들 참고ㅋㅋㅋ https://mlbpark.donga.com/mp/b.php?id=202303020078641571&p=1&b=bullpen&m=view&select=sct&query=%EB%89%B4%EC%A7%84%EC%8A%A4&user=&site=donga.com 2023-03-02 3\n",
      "좋은 곡 뉴진스에 먼저 갈 것? https://mlbpark.donga.com/mp/b.php?id=202303020078640944&p=1&b=bullpen&m=view&select=sct&query=%EB%89%B4%EC%A7%84%EC%8A%A4&user=&site=donga.com 2023-03-02 2\n",
      "23년 월별 불펜 걸그룹 화제성 탑 https://mlbpark.donga.com/mp/b.php?id=202303020078640410&p=1&b=bullpen&m=view&select=sct&query=%EB%89%B4%EC%A7%84%EC%8A%A4&user=&site=donga.com 2023-03-02 0\n",
      "뉴진스 노래도 좋네요 https://mlbpark.donga.com/mp/b.php?id=202303020078638997&p=1&b=bullpen&m=view&select=sct&query=%EB%89%B4%EC%A7%84%EC%8A%A4&user=&site=donga.com 2023-03-02 4\n",
      "뉴진스 노래중 가장 좋아하는 노래가 뭔가요? https://mlbpark.donga.com/mp/b.php?id=202303020078653748&p=1&b=bullpen&m=view&select=sct&query=%EB%89%B4%EC%A7%84%EC%8A%A4&user=&site=donga.com 2023-03-02 17\n",
      "사실상 뉴진스 본체 https://mlbpark.donga.com/mp/b.php?id=202303020078653382&p=1&b=bullpen&m=view&select=sct&query=%EB%89%B4%EC%A7%84%EC%8A%A4&user=&site=donga.com 2023-03-02 5\n",
      "뉴진스 버거광고 찍은이유 https://mlbpark.donga.com/mp/b.php?id=202303020078653286&p=1&b=bullpen&m=view&select=sct&query=%EB%89%B4%EC%A7%84%EC%8A%A4&user=&site=donga.com 2023-03-02 3\n",
      "멜론차트 1위 순위가 좀 이상한데요? https://mlbpark.donga.com/mp/b.php?id=202303020078653121&p=1&b=bullpen&m=view&select=sct&query=%EB%89%B4%EC%A7%84%EC%8A%A4&user=&site=naver.com 2023-03-02 3\n",
      "뉴진스가 전성기 투피엠 넘을수 있을까요? https://mlbpark.donga.com/mp/b.php?id=202303020078652098&p=1&b=bullpen&m=view&select=sct&query=%EB%89%B4%EC%A7%84%EC%8A%A4&user=&site=donga.com 2023-03-02 5\n",
      "제가 요즘 배우고있는 인싸춤ㅎㄷㄷㄷㄷ.gif https://mlbpark.donga.com/mp/b.php?id=202303020078651822&p=1&b=bullpen&m=view&select=sct&query=%EB%89%B4%EC%A7%84%EC%8A%A4&user=&site=donga.com 2023-03-02 3\n",
      "10대 한정 인지도 대결.jpg https://mlbpark.donga.com/mp/b.php?id=202303020078651717&p=1&b=bullpen&m=view&select=sct&query=%EB%89%B4%EC%A7%84%EC%8A%A4&user=&site=donga.com 2023-03-02 4\n",
      "뉴진스가 오렌즈 새 모델 됐네요 https://mlbpark.donga.com/mp/b.php?id=202303020078651327&p=1&b=bullpen&m=view&select=sct&query=%EB%89%B4%EC%A7%84%EC%8A%A4&user=&site=donga.com 2023-03-02 6\n",
      "[뉴진스]톱10 3곡..뉴진스 노래방차트도 휩쓸었다 https://mlbpark.donga.com/mp/b.php?id=202303020078649470&p=1&b=bullpen&m=view&select=sct&query=%EB%89%B4%EC%A7%84%EC%8A%A4&user=&site=donga.com 2023-03-02 1\n",
      "뉴진스 때문에 미치겠네요 https://mlbpark.donga.com/mp/b.php?id=202303020078648609&p=1&b=bullpen&m=view&select=sct&query=%EB%89%B4%EC%A7%84%EC%8A%A4&user=&site=donga.com 2023-03-02 16\n",
      "학부형님들, 아이브 뉴진스 멤버 얼굴 이름 매칭 되신가요? https://mlbpark.donga.com/mp/b.php?id=202303020078647859&p=1&b=bullpen&m=view&select=sct&query=%EB%89%B4%EC%A7%84%EC%8A%A4&user=&site=donga.com 2023-03-02 5\n",
      "일본노래는 씹덕노래만 있는줄알았습니다 오늘 개안하네요 https://mlbpark.donga.com/mp/b.php?id=202303020078647697&p=1&b=bullpen&m=view&select=sct&query=%EB%89%B4%EC%A7%84%EC%8A%A4&user=&site=donga.com 2023-03-02 4\n",
      "뉴진스 안무는 진짜 특이하네요. https://mlbpark.donga.com/mp/b.php?id=202303020078647217&p=1&b=bullpen&m=view&select=sct&query=%EB%89%B4%EC%A7%84%EC%8A%A4&user=&site=donga.com 2023-03-02 1\n",
      "여자 아이돌 현재 누가 제일 잘 나가나요? https://mlbpark.donga.com/mp/b.php?id=202303020078646653&p=1&b=bullpen&m=view&select=sct&query=%EB%89%B4%EC%A7%84%EC%8A%A4&user=&site=donga.com 2023-03-02 7\n",
      "뉴진스 나이키 에어맥스 광고 영상 https://mlbpark.donga.com/mp/b.php?id=202303020078646296&p=1&b=bullpen&m=view&select=sct&query=%EB%89%B4%EC%A7%84%EC%8A%A4&user=&site=donga.com 2023-03-02 1\n",
      "뉴진스 이 영상만 3천번 봤는데 정상인가요 https://mlbpark.donga.com/mp/b.php?id=202303020078645978&p=1&b=bullpen&m=view&select=sct&query=%EB%89%B4%EC%A7%84%EC%8A%A4&user=&site=donga.com 2023-03-02 4\n",
      "\"제2의 블랙핑크' 베이비몬스터 전원 공개 [종합] https://mlbpark.donga.com/mp/b.php?id=202303020078644907&p=1&b=bullpen&m=view&select=sct&query=%EB%89%B4%EC%A7%84%EC%8A%A4&user=&site=donga.com 2023-03-02 26\n",
      "요즘 초등학생들 트와이스 모르나요? https://mlbpark.donga.com/mp/b.php?id=202303020078644418&p=1&b=bullpen&m=view&select=sct&query=%EB%89%B4%EC%A7%84%EC%8A%A4&user=&site=donga.com 2023-03-02 2\n",
      "뉴진스 디토 처음 들어본 아재인데 역대급으로 좋네요 https://mlbpark.donga.com/mp/b.php?id=202303020078643995&p=1&b=bullpen&m=view&select=sct&query=%EB%89%B4%EC%A7%84%EC%8A%A4&user=&site=donga.com 2023-03-02 2\n",
      "[뉴진스] 오렌즈 렌즈 민지 하니.jpg https://mlbpark.donga.com/mp/b.php?id=202303020078643338&p=1&b=bullpen&m=view&select=sct&query=%EB%89%B4%EC%A7%84%EC%8A%A4&user=&site=donga.com 2023-03-02 5\n",
      "침착맨 방송에 뉴진스 나간거 충격이네요 https://mlbpark.donga.com/mp/b.php?id=202303020078643149&p=1&b=bullpen&m=view&select=sct&query=%EB%89%B4%EC%A7%84%EC%8A%A4&user=&site=donga.com 2023-03-02 3\n",
      "뉴진스 웬만한 광고 종류는 다찍었네요 https://mlbpark.donga.com/mp/b.php?id=202303020078642591&p=1&b=bullpen&m=view&select=sct&query=%EB%89%B4%EC%A7%84%EC%8A%A4&user=&site=donga.com 2023-03-02 6\n",
      "[뉴진스] 나이키 에어맥스.mp4 https://mlbpark.donga.com/mp/b.php?id=202303020078642462&p=1&b=bullpen&m=view&select=sct&query=%EB%89%B4%EC%A7%84%EC%8A%A4&user=&site=donga.com 2023-03-02 5\n",
      "뉴진스 해축으로 치면 누군가요? https://mlbpark.donga.com/mp/b.php?id=202303020078642309&p=1&b=bullpen&m=view&select=sct&query=%EB%89%B4%EC%A7%84%EC%8A%A4&user=&site=donga.com 2023-03-02 5\n",
      "위클리 엔믹스 뉴진스 라임라잇 한림예고 인스타 https://mlbpark.donga.com/mp/b.php?id=202303020078641952&p=1&b=bullpen&m=view&select=sct&query=%EB%89%B4%EC%A7%84%EC%8A%A4&user=&site=donga.com 2023-03-02 0\n",
      "걸그룹이 잘나가도 보통수준?의 보이그룹이 더 돈되는이유가 뭘까요 https://mlbpark.donga.com/mp/b.php?id=202303020078641601&p=1&b=bullpen&m=view&select=sct&query=%EB%89%B4%EC%A7%84%EC%8A%A4&user=&site=donga.com 2023-03-02 19\n",
      "뉴진스) 맥도날드 가시는분들 참고ㅋㅋㅋ https://mlbpark.donga.com/mp/b.php?id=202303020078641571&p=1&b=bullpen&m=view&select=sct&query=%EB%89%B4%EC%A7%84%EC%8A%A4&user=&site=donga.com 2023-03-02 3\n",
      "좋은 곡 뉴진스에 먼저 갈 것? https://mlbpark.donga.com/mp/b.php?id=202303020078640944&p=1&b=bullpen&m=view&select=sct&query=%EB%89%B4%EC%A7%84%EC%8A%A4&user=&site=donga.com 2023-03-02 2\n",
      "23년 월별 불펜 걸그룹 화제성 탑 https://mlbpark.donga.com/mp/b.php?id=202303020078640410&p=1&b=bullpen&m=view&select=sct&query=%EB%89%B4%EC%A7%84%EC%8A%A4&user=&site=donga.com 2023-03-02 0\n",
      "뉴진스 노래도 좋네요 https://mlbpark.donga.com/mp/b.php?id=202303020078638997&p=1&b=bullpen&m=view&select=sct&query=%EB%89%B4%EC%A7%84%EC%8A%A4&user=&site=donga.com 2023-03-02 4\n",
      "뉴진스 노래중 가장 좋아하는 노래가 뭔가요? https://mlbpark.donga.com/mp/b.php?id=202303020078653748&p=1&b=bullpen&m=view&select=sct&query=%EB%89%B4%EC%A7%84%EC%8A%A4&user=&site=donga.com 2023-03-02 17\n",
      "사실상 뉴진스 본체 https://mlbpark.donga.com/mp/b.php?id=202303020078653382&p=1&b=bullpen&m=view&select=sct&query=%EB%89%B4%EC%A7%84%EC%8A%A4&user=&site=donga.com 2023-03-02 5\n",
      "뉴진스 버거광고 찍은이유 https://mlbpark.donga.com/mp/b.php?id=202303020078653286&p=1&b=bullpen&m=view&select=sct&query=%EB%89%B4%EC%A7%84%EC%8A%A4&user=&site=donga.com 2023-03-02 3\n",
      "멜론차트 1위 순위가 좀 이상한데요? https://mlbpark.donga.com/mp/b.php?id=202303020078653121&p=1&b=bullpen&m=view&select=sct&query=%EB%89%B4%EC%A7%84%EC%8A%A4&user=&site=naver.com 2023-03-02 3\n",
      "뉴진스가 전성기 투피엠 넘을수 있을까요? https://mlbpark.donga.com/mp/b.php?id=202303020078652098&p=1&b=bullpen&m=view&select=sct&query=%EB%89%B4%EC%A7%84%EC%8A%A4&user=&site=donga.com 2023-03-02 5\n",
      "제가 요즘 배우고있는 인싸춤ㅎㄷㄷㄷㄷ.gif https://mlbpark.donga.com/mp/b.php?id=202303020078651822&p=1&b=bullpen&m=view&select=sct&query=%EB%89%B4%EC%A7%84%EC%8A%A4&user=&site=donga.com 2023-03-02 3\n",
      "10대 한정 인지도 대결.jpg https://mlbpark.donga.com/mp/b.php?id=202303020078651717&p=1&b=bullpen&m=view&select=sct&query=%EB%89%B4%EC%A7%84%EC%8A%A4&user=&site=donga.com 2023-03-02 4\n",
      "뉴진스가 오렌즈 새 모델 됐네요 https://mlbpark.donga.com/mp/b.php?id=202303020078651327&p=1&b=bullpen&m=view&select=sct&query=%EB%89%B4%EC%A7%84%EC%8A%A4&user=&site=donga.com 2023-03-02 6\n",
      "[뉴진스]톱10 3곡..뉴진스 노래방차트도 휩쓸었다 https://mlbpark.donga.com/mp/b.php?id=202303020078649470&p=1&b=bullpen&m=view&select=sct&query=%EB%89%B4%EC%A7%84%EC%8A%A4&user=&site=donga.com 2023-03-02 1\n",
      "뉴진스 때문에 미치겠네요 https://mlbpark.donga.com/mp/b.php?id=202303020078648609&p=1&b=bullpen&m=view&select=sct&query=%EB%89%B4%EC%A7%84%EC%8A%A4&user=&site=donga.com 2023-03-02 16\n",
      "학부형님들, 아이브 뉴진스 멤버 얼굴 이름 매칭 되신가요? https://mlbpark.donga.com/mp/b.php?id=202303020078647859&p=1&b=bullpen&m=view&select=sct&query=%EB%89%B4%EC%A7%84%EC%8A%A4&user=&site=donga.com 2023-03-02 5\n",
      "일본노래는 씹덕노래만 있는줄알았습니다 오늘 개안하네요 https://mlbpark.donga.com/mp/b.php?id=202303020078647697&p=1&b=bullpen&m=view&select=sct&query=%EB%89%B4%EC%A7%84%EC%8A%A4&user=&site=donga.com 2023-03-02 4\n",
      "뉴진스 안무는 진짜 특이하네요. https://mlbpark.donga.com/mp/b.php?id=202303020078647217&p=1&b=bullpen&m=view&select=sct&query=%EB%89%B4%EC%A7%84%EC%8A%A4&user=&site=donga.com 2023-03-02 1\n",
      "여자 아이돌 현재 누가 제일 잘 나가나요? https://mlbpark.donga.com/mp/b.php?id=202303020078646653&p=1&b=bullpen&m=view&select=sct&query=%EB%89%B4%EC%A7%84%EC%8A%A4&user=&site=donga.com 2023-03-02 7\n",
      "뉴진스 나이키 에어맥스 광고 영상 https://mlbpark.donga.com/mp/b.php?id=202303020078646296&p=1&b=bullpen&m=view&select=sct&query=%EB%89%B4%EC%A7%84%EC%8A%A4&user=&site=donga.com 2023-03-02 1\n",
      "뉴진스 이 영상만 3천번 봤는데 정상인가요 https://mlbpark.donga.com/mp/b.php?id=202303020078645978&p=1&b=bullpen&m=view&select=sct&query=%EB%89%B4%EC%A7%84%EC%8A%A4&user=&site=donga.com 2023-03-02 4\n",
      "\"제2의 블랙핑크' 베이비몬스터 전원 공개 [종합] https://mlbpark.donga.com/mp/b.php?id=202303020078644907&p=1&b=bullpen&m=view&select=sct&query=%EB%89%B4%EC%A7%84%EC%8A%A4&user=&site=donga.com 2023-03-02 26\n",
      "요즘 초등학생들 트와이스 모르나요? https://mlbpark.donga.com/mp/b.php?id=202303020078644418&p=1&b=bullpen&m=view&select=sct&query=%EB%89%B4%EC%A7%84%EC%8A%A4&user=&site=donga.com 2023-03-02 2\n",
      "뉴진스 디토 처음 들어본 아재인데 역대급으로 좋네요 https://mlbpark.donga.com/mp/b.php?id=202303020078643995&p=1&b=bullpen&m=view&select=sct&query=%EB%89%B4%EC%A7%84%EC%8A%A4&user=&site=donga.com 2023-03-02 2\n",
      "[뉴진스] 오렌즈 렌즈 민지 하니.jpg https://mlbpark.donga.com/mp/b.php?id=202303020078643338&p=1&b=bullpen&m=view&select=sct&query=%EB%89%B4%EC%A7%84%EC%8A%A4&user=&site=donga.com 2023-03-02 5\n",
      "침착맨 방송에 뉴진스 나간거 충격이네요 https://mlbpark.donga.com/mp/b.php?id=202303020078643149&p=1&b=bullpen&m=view&select=sct&query=%EB%89%B4%EC%A7%84%EC%8A%A4&user=&site=donga.com 2023-03-02 3\n",
      "뉴진스 웬만한 광고 종류는 다찍었네요 https://mlbpark.donga.com/mp/b.php?id=202303020078642591&p=1&b=bullpen&m=view&select=sct&query=%EB%89%B4%EC%A7%84%EC%8A%A4&user=&site=donga.com 2023-03-02 6\n",
      "[뉴진스] 나이키 에어맥스.mp4 https://mlbpark.donga.com/mp/b.php?id=202303020078642462&p=1&b=bullpen&m=view&select=sct&query=%EB%89%B4%EC%A7%84%EC%8A%A4&user=&site=donga.com 2023-03-02 5\n",
      "뉴진스 해축으로 치면 누군가요? https://mlbpark.donga.com/mp/b.php?id=202303020078642309&p=1&b=bullpen&m=view&select=sct&query=%EB%89%B4%EC%A7%84%EC%8A%A4&user=&site=donga.com 2023-03-02 5\n",
      "위클리 엔믹스 뉴진스 라임라잇 한림예고 인스타 https://mlbpark.donga.com/mp/b.php?id=202303020078641952&p=1&b=bullpen&m=view&select=sct&query=%EB%89%B4%EC%A7%84%EC%8A%A4&user=&site=donga.com 2023-03-02 0\n",
      "걸그룹이 잘나가도 보통수준?의 보이그룹이 더 돈되는이유가 뭘까요 https://mlbpark.donga.com/mp/b.php?id=202303020078641601&p=1&b=bullpen&m=view&select=sct&query=%EB%89%B4%EC%A7%84%EC%8A%A4&user=&site=donga.com 2023-03-02 19\n",
      "뉴진스) 맥도날드 가시는분들 참고ㅋㅋㅋ https://mlbpark.donga.com/mp/b.php?id=202303020078641571&p=1&b=bullpen&m=view&select=sct&query=%EB%89%B4%EC%A7%84%EC%8A%A4&user=&site=donga.com 2023-03-02 3\n",
      "좋은 곡 뉴진스에 먼저 갈 것? https://mlbpark.donga.com/mp/b.php?id=202303020078640944&p=1&b=bullpen&m=view&select=sct&query=%EB%89%B4%EC%A7%84%EC%8A%A4&user=&site=donga.com 2023-03-02 2\n",
      "23년 월별 불펜 걸그룹 화제성 탑 https://mlbpark.donga.com/mp/b.php?id=202303020078640410&p=1&b=bullpen&m=view&select=sct&query=%EB%89%B4%EC%A7%84%EC%8A%A4&user=&site=donga.com 2023-03-02 0\n",
      "뉴진스 노래도 좋네요 https://mlbpark.donga.com/mp/b.php?id=202303020078638997&p=1&b=bullpen&m=view&select=sct&query=%EB%89%B4%EC%A7%84%EC%8A%A4&user=&site=donga.com 2023-03-02 4\n",
      "뉴진스 노래중 가장 좋아하는 노래가 뭔가요? https://mlbpark.donga.com/mp/b.php?id=202303020078653748&p=1&b=bullpen&m=view&select=sct&query=%EB%89%B4%EC%A7%84%EC%8A%A4&user=&site=donga.com 2023-03-02 17\n",
      "사실상 뉴진스 본체 https://mlbpark.donga.com/mp/b.php?id=202303020078653382&p=1&b=bullpen&m=view&select=sct&query=%EB%89%B4%EC%A7%84%EC%8A%A4&user=&site=donga.com 2023-03-02 5\n",
      "뉴진스 버거광고 찍은이유 https://mlbpark.donga.com/mp/b.php?id=202303020078653286&p=1&b=bullpen&m=view&select=sct&query=%EB%89%B4%EC%A7%84%EC%8A%A4&user=&site=donga.com 2023-03-02 3\n",
      "멜론차트 1위 순위가 좀 이상한데요? https://mlbpark.donga.com/mp/b.php?id=202303020078653121&p=1&b=bullpen&m=view&select=sct&query=%EB%89%B4%EC%A7%84%EC%8A%A4&user=&site=naver.com 2023-03-02 3\n",
      "뉴진스가 전성기 투피엠 넘을수 있을까요? https://mlbpark.donga.com/mp/b.php?id=202303020078652098&p=1&b=bullpen&m=view&select=sct&query=%EB%89%B4%EC%A7%84%EC%8A%A4&user=&site=donga.com 2023-03-02 5\n",
      "제가 요즘 배우고있는 인싸춤ㅎㄷㄷㄷㄷ.gif https://mlbpark.donga.com/mp/b.php?id=202303020078651822&p=1&b=bullpen&m=view&select=sct&query=%EB%89%B4%EC%A7%84%EC%8A%A4&user=&site=donga.com 2023-03-02 3\n",
      "10대 한정 인지도 대결.jpg https://mlbpark.donga.com/mp/b.php?id=202303020078651717&p=1&b=bullpen&m=view&select=sct&query=%EB%89%B4%EC%A7%84%EC%8A%A4&user=&site=donga.com 2023-03-02 4\n",
      "뉴진스가 오렌즈 새 모델 됐네요 https://mlbpark.donga.com/mp/b.php?id=202303020078651327&p=1&b=bullpen&m=view&select=sct&query=%EB%89%B4%EC%A7%84%EC%8A%A4&user=&site=donga.com 2023-03-02 6\n",
      "[뉴진스]톱10 3곡..뉴진스 노래방차트도 휩쓸었다 https://mlbpark.donga.com/mp/b.php?id=202303020078649470&p=1&b=bullpen&m=view&select=sct&query=%EB%89%B4%EC%A7%84%EC%8A%A4&user=&site=donga.com 2023-03-02 1\n",
      "뉴진스 때문에 미치겠네요 https://mlbpark.donga.com/mp/b.php?id=202303020078648609&p=1&b=bullpen&m=view&select=sct&query=%EB%89%B4%EC%A7%84%EC%8A%A4&user=&site=donga.com 2023-03-02 16\n",
      "학부형님들, 아이브 뉴진스 멤버 얼굴 이름 매칭 되신가요? https://mlbpark.donga.com/mp/b.php?id=202303020078647859&p=1&b=bullpen&m=view&select=sct&query=%EB%89%B4%EC%A7%84%EC%8A%A4&user=&site=donga.com 2023-03-02 5\n",
      "일본노래는 씹덕노래만 있는줄알았습니다 오늘 개안하네요 https://mlbpark.donga.com/mp/b.php?id=202303020078647697&p=1&b=bullpen&m=view&select=sct&query=%EB%89%B4%EC%A7%84%EC%8A%A4&user=&site=donga.com 2023-03-02 4\n",
      "뉴진스 안무는 진짜 특이하네요. https://mlbpark.donga.com/mp/b.php?id=202303020078647217&p=1&b=bullpen&m=view&select=sct&query=%EB%89%B4%EC%A7%84%EC%8A%A4&user=&site=donga.com 2023-03-02 1\n",
      "여자 아이돌 현재 누가 제일 잘 나가나요? https://mlbpark.donga.com/mp/b.php?id=202303020078646653&p=1&b=bullpen&m=view&select=sct&query=%EB%89%B4%EC%A7%84%EC%8A%A4&user=&site=donga.com 2023-03-02 7\n",
      "뉴진스 나이키 에어맥스 광고 영상 https://mlbpark.donga.com/mp/b.php?id=202303020078646296&p=1&b=bullpen&m=view&select=sct&query=%EB%89%B4%EC%A7%84%EC%8A%A4&user=&site=donga.com 2023-03-02 1\n",
      "뉴진스 이 영상만 3천번 봤는데 정상인가요 https://mlbpark.donga.com/mp/b.php?id=202303020078645978&p=1&b=bullpen&m=view&select=sct&query=%EB%89%B4%EC%A7%84%EC%8A%A4&user=&site=donga.com 2023-03-02 4\n",
      "\"제2의 블랙핑크' 베이비몬스터 전원 공개 [종합] https://mlbpark.donga.com/mp/b.php?id=202303020078644907&p=1&b=bullpen&m=view&select=sct&query=%EB%89%B4%EC%A7%84%EC%8A%A4&user=&site=donga.com 2023-03-02 26\n",
      "요즘 초등학생들 트와이스 모르나요? https://mlbpark.donga.com/mp/b.php?id=202303020078644418&p=1&b=bullpen&m=view&select=sct&query=%EB%89%B4%EC%A7%84%EC%8A%A4&user=&site=donga.com 2023-03-02 2\n",
      "뉴진스 디토 처음 들어본 아재인데 역대급으로 좋네요 https://mlbpark.donga.com/mp/b.php?id=202303020078643995&p=1&b=bullpen&m=view&select=sct&query=%EB%89%B4%EC%A7%84%EC%8A%A4&user=&site=donga.com 2023-03-02 2\n",
      "[뉴진스] 오렌즈 렌즈 민지 하니.jpg https://mlbpark.donga.com/mp/b.php?id=202303020078643338&p=1&b=bullpen&m=view&select=sct&query=%EB%89%B4%EC%A7%84%EC%8A%A4&user=&site=donga.com 2023-03-02 5\n",
      "침착맨 방송에 뉴진스 나간거 충격이네요 https://mlbpark.donga.com/mp/b.php?id=202303020078643149&p=1&b=bullpen&m=view&select=sct&query=%EB%89%B4%EC%A7%84%EC%8A%A4&user=&site=donga.com 2023-03-02 3\n",
      "뉴진스 웬만한 광고 종류는 다찍었네요 https://mlbpark.donga.com/mp/b.php?id=202303020078642591&p=1&b=bullpen&m=view&select=sct&query=%EB%89%B4%EC%A7%84%EC%8A%A4&user=&site=donga.com 2023-03-02 6\n",
      "[뉴진스] 나이키 에어맥스.mp4 https://mlbpark.donga.com/mp/b.php?id=202303020078642462&p=1&b=bullpen&m=view&select=sct&query=%EB%89%B4%EC%A7%84%EC%8A%A4&user=&site=donga.com 2023-03-02 5\n",
      "뉴진스 해축으로 치면 누군가요? https://mlbpark.donga.com/mp/b.php?id=202303020078642309&p=1&b=bullpen&m=view&select=sct&query=%EB%89%B4%EC%A7%84%EC%8A%A4&user=&site=donga.com 2023-03-02 5\n",
      "위클리 엔믹스 뉴진스 라임라잇 한림예고 인스타 https://mlbpark.donga.com/mp/b.php?id=202303020078641952&p=1&b=bullpen&m=view&select=sct&query=%EB%89%B4%EC%A7%84%EC%8A%A4&user=&site=donga.com 2023-03-02 0\n",
      "걸그룹이 잘나가도 보통수준?의 보이그룹이 더 돈되는이유가 뭘까요 https://mlbpark.donga.com/mp/b.php?id=202303020078641601&p=1&b=bullpen&m=view&select=sct&query=%EB%89%B4%EC%A7%84%EC%8A%A4&user=&site=donga.com 2023-03-02 19\n",
      "뉴진스) 맥도날드 가시는분들 참고ㅋㅋㅋ https://mlbpark.donga.com/mp/b.php?id=202303020078641571&p=1&b=bullpen&m=view&select=sct&query=%EB%89%B4%EC%A7%84%EC%8A%A4&user=&site=donga.com 2023-03-02 3\n",
      "좋은 곡 뉴진스에 먼저 갈 것? https://mlbpark.donga.com/mp/b.php?id=202303020078640944&p=1&b=bullpen&m=view&select=sct&query=%EB%89%B4%EC%A7%84%EC%8A%A4&user=&site=donga.com 2023-03-02 2\n",
      "23년 월별 불펜 걸그룹 화제성 탑 https://mlbpark.donga.com/mp/b.php?id=202303020078640410&p=1&b=bullpen&m=view&select=sct&query=%EB%89%B4%EC%A7%84%EC%8A%A4&user=&site=donga.com 2023-03-02 0\n",
      "뉴진스 노래도 좋네요 https://mlbpark.donga.com/mp/b.php?id=202303020078638997&p=1&b=bullpen&m=view&select=sct&query=%EB%89%B4%EC%A7%84%EC%8A%A4&user=&site=donga.com 2023-03-02 4\n"
     ]
    },
    {
     "data": {
      "text/plain": [
       "10.239142417907715"
      ]
     },
     "execution_count": 41,
     "metadata": {},
     "output_type": "execute_result"
    }
   ],
   "source": [
    "word_list = ['맥북', '그램', '뉴진스', '니ㅏ펀']\n",
    "\n",
    "mp_crwaling(driver, word_list)\n"
   ]
  },
  {
   "cell_type": "code",
   "execution_count": null,
   "metadata": {},
   "outputs": [],
   "source": [
    "for word in word_list:\n",
    "    if check_word(word) is True:\n",
    "        mp_crwaling(driver, word_list)\n",
    "        fm_crawling(driver, word_list)"
   ]
  }
 ],
 "metadata": {
  "kernelspec": {
   "display_name": "Python 3",
   "language": "python",
   "name": "python3"
  },
  "language_info": {
   "codemirror_mode": {
    "name": "ipython",
    "version": 3
   },
   "file_extension": ".py",
   "mimetype": "text/x-python",
   "name": "python",
   "nbconvert_exporter": "python",
   "pygments_lexer": "ipython3",
   "version": "3.11.0"
  },
  "orig_nbformat": 4,
  "vscode": {
   "interpreter": {
    "hash": "613be4257a235896c62c6cddf239c19cb31941bb1e932190aafc389901e7e74e"
   }
  }
 },
 "nbformat": 4,
 "nbformat_minor": 2
}
